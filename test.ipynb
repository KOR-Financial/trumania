{
 "cells": [
  {
   "cell_type": "code",
   "execution_count": 1,
   "metadata": {
    "collapsed": false
   },
   "outputs": [
    {
     "name": "stdout",
     "output_type": "stream",
     "text": [
      "Parameters\n",
      "Done\n",
      "Clock\n",
      "Done\n",
      "Generators\n",
      "Done\n",
      "initialise Time Generators\n",
      "Done\n",
      "Create callers\n",
      "Done\n",
      "Added atributes\n",
      "Creating social network\n",
      "Done\n",
      "Done SNA\n",
      "Mobility\n",
      "Network created\n",
      "Done all customers\n",
      "Creating circus\n",
      "Done\n",
      "Start run\n",
      "iteration 0 on 10\n",
      "\n",
      "iteration 1 on 10\n",
      "\n",
      "iteration 2 on 10\n",
      "\n",
      "iteration 3 on 10\n",
      "\n",
      "iteration 4 on 10\n",
      "\n",
      "iteration 5 on 10\n",
      "\n",
      "iteration 6 on 10\n",
      "\n",
      "iteration 7 on 10\n",
      "\n",
      "iteration 8 on 10\n",
      "\n",
      "iteration 9 on 10\n",
      "\n"
     ]
    }
   ],
   "source": [
    "from src.generator import main\n",
    "out = main()"
   ]
  },
  {
   "cell_type": "code",
   "execution_count": null,
   "metadata": {
    "collapsed": false
   },
   "outputs": [],
   "source": [
    "out[0].get_contents()[1][\"customers\"]._transient_attributes[\"CELL\"]._table"
   ]
  },
  {
   "cell_type": "code",
   "execution_count": null,
   "metadata": {
    "collapsed": false
   },
   "outputs": [],
   "source": [
    "out[1]"
   ]
  },
  {
   "cell_type": "code",
   "execution_count": null,
   "metadata": {
    "collapsed": false
   },
   "outputs": [],
   "source": [
    "out[2]"
   ]
  },
  {
   "cell_type": "code",
   "execution_count": 2,
   "metadata": {
    "collapsed": false
   },
   "outputs": [
    {
     "data": {
      "text/plain": [
       "{'caller SNA graph creation': 8.87,\n",
       " 'caller attribute creation': 1.4300000000000002,\n",
       " 'caller creation (solo)': 0.0,\n",
       " 'callers creation (full)': 10.76,\n",
       " 'circus creation': 0.0,\n",
       " 'clocks': 0.0,\n",
       " 'generators': 0.039999999999999813,\n",
       " 'init generators': 0.0,\n",
       " 'mobility attribute creation': 0.040000000000000924,\n",
       " 'mobility graph creation': 1.4299999999999997,\n",
       " 'one run (average)': 2.5599999999999996,\n",
       " 'parameters': 0.0,\n",
       " 'runs (all)': 25.599999999999994}"
      ]
     },
     "execution_count": 2,
     "metadata": {},
     "output_type": "execute_result"
    }
   ],
   "source": [
    "out[3]"
   ]
  },
  {
   "cell_type": "code",
   "execution_count": null,
   "metadata": {
    "collapsed": false
   },
   "outputs": [],
   "source": []
  },
  {
   "cell_type": "code",
   "execution_count": null,
   "metadata": {
    "collapsed": true
   },
   "outputs": [],
   "source": []
  }
 ],
 "metadata": {
  "kernelspec": {
   "display_name": "Python 2",
   "language": "python",
   "name": "python2"
  },
  "language_info": {
   "codemirror_mode": {
    "name": "ipython",
    "version": 2
   },
   "file_extension": ".py",
   "mimetype": "text/x-python",
   "name": "python",
   "nbconvert_exporter": "python",
   "pygments_lexer": "ipython2",
   "version": "2.7.11"
  }
 },
 "nbformat": 4,
 "nbformat_minor": 0
}
