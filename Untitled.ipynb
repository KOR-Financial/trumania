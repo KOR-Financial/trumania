{
 "cells": [
  {
   "cell_type": "code",
   "execution_count": 1,
   "metadata": {
    "collapsed": true
   },
   "outputs": [],
   "source": [
    "import pandas as pd\n",
    "import numpy as np \n",
    "from datetime import timedelta"
   ]
  },
  {
   "cell_type": "code",
   "execution_count": 12,
   "metadata": {
    "collapsed": true
   },
   "outputs": [],
   "source": [
    "df.mask?"
   ]
  },
  {
   "cell_type": "code",
   "execution_count": 14,
   "metadata": {
    "collapsed": false
   },
   "outputs": [
    {
     "data": {
      "text/html": [
       "<div>\n",
       "<table border=\"1\" class=\"dataframe\">\n",
       "  <thead>\n",
       "    <tr style=\"text-align: right;\">\n",
       "      <th></th>\n",
       "      <th>A</th>\n",
       "    </tr>\n",
       "  </thead>\n",
       "  <tbody>\n",
       "    <tr>\n",
       "      <th>0</th>\n",
       "      <td>[1, 2]</td>\n",
       "    </tr>\n",
       "    <tr>\n",
       "      <th>1</th>\n",
       "      <td>[2, 3]</td>\n",
       "    </tr>\n",
       "    <tr>\n",
       "      <th>3</th>\n",
       "      <td>[1, 2]</td>\n",
       "    </tr>\n",
       "  </tbody>\n",
       "</table>\n",
       "</div>"
      ],
      "text/plain": [
       "        A\n",
       "0  [1, 2]\n",
       "1  [2, 3]\n",
       "3  [1, 2]"
      ]
     },
     "execution_count": 14,
     "metadata": {},
     "output_type": "execute_result"
    }
   ],
   "source": [
    "df[df.A.apply(lambda t: t[0]!=t[1])]"
   ]
  },
  {
   "cell_type": "code",
   "execution_count": 2,
   "metadata": {
    "collapsed": false
   },
   "outputs": [
    {
     "data": {
      "text/plain": [
       "Timestamp('2016-06-10 17:53:00')"
      ]
     },
     "execution_count": 2,
     "metadata": {},
     "output_type": "execute_result"
    }
   ],
   "source": [
    "pd.Timestamp(\"10 June 2016 5:53pm\")"
   ]
  },
  {
   "cell_type": "code",
   "execution_count": 3,
   "metadata": {
    "collapsed": false
   },
   "outputs": [
    {
     "data": {
      "text/plain": [
       "Timedelta('0 days 00:00:00')"
      ]
     },
     "execution_count": 3,
     "metadata": {},
     "output_type": "execute_result"
    }
   ],
   "source": [
    "pd.Timestamp(\"20160810-10:34.34\") - pd.Timestamp(\"20160810-10:34.34\")"
   ]
  },
  {
   "cell_type": "code",
   "execution_count": 4,
   "metadata": {
    "collapsed": true
   },
   "outputs": [],
   "source": [
    "profile = [1,2,3,4,5,6,7]\n",
    "start=\"20160810-10:34.34\"\n",
    "profile_time_steps=\"1D\""
   ]
  },
  {
   "cell_type": "code",
   "execution_count": 5,
   "metadata": {
    "collapsed": false
   },
   "outputs": [
    {
     "data": {
      "text/plain": [
       "2016-08-10 10:34:20    1\n",
       "2016-08-11 10:34:20    2\n",
       "2016-08-12 10:34:20    3\n",
       "2016-08-13 10:34:20    4\n",
       "2016-08-14 10:34:20    5\n",
       "2016-08-15 10:34:20    6\n",
       "2016-08-16 10:34:20    7\n",
       "Freq: D, dtype: int64"
      ]
     },
     "execution_count": 5,
     "metadata": {},
     "output_type": "execute_result"
    }
   ],
   "source": [
    "idx = pd.date_range(start=pd.Timestamp(start), \n",
    "                    freq=profile_time_steps, periods=len(profile))\n",
    "ser = pd.Series(data=profile, index=idx)\n",
    "ser"
   ]
  },
  {
   "cell_type": "code",
   "execution_count": 6,
   "metadata": {
    "collapsed": true
   },
   "outputs": [],
   "source": [
    "ser.resample?"
   ]
  },
  {
   "cell_type": "code",
   "execution_count": 67,
   "metadata": {
    "collapsed": false
   },
   "outputs": [
    {
     "data": {
      "text/plain": [
       "2016-08-10 10:30:00   NaN\n",
       "2016-08-10 10:45:00     1\n",
       "2016-08-10 11:00:00     1\n",
       "2016-08-10 11:15:00     1\n",
       "2016-08-10 11:30:00     1\n",
       "2016-08-10 11:45:00     1\n",
       "2016-08-10 12:00:00     1\n",
       "2016-08-10 12:15:00     1\n",
       "2016-08-10 12:30:00     1\n",
       "2016-08-10 12:45:00     1\n",
       "2016-08-10 13:00:00     1\n",
       "2016-08-10 13:15:00     1\n",
       "2016-08-10 13:30:00     1\n",
       "2016-08-10 13:45:00     1\n",
       "2016-08-10 14:00:00     1\n",
       "2016-08-10 14:15:00     1\n",
       "2016-08-10 14:30:00     1\n",
       "2016-08-10 14:45:00     1\n",
       "2016-08-10 15:00:00     1\n",
       "2016-08-10 15:15:00     1\n",
       "2016-08-10 15:30:00     1\n",
       "2016-08-10 15:45:00     1\n",
       "2016-08-10 16:00:00     1\n",
       "2016-08-10 16:15:00     1\n",
       "2016-08-10 16:30:00     1\n",
       "2016-08-10 16:45:00     1\n",
       "2016-08-10 17:00:00     1\n",
       "2016-08-10 17:15:00     1\n",
       "2016-08-10 17:30:00     1\n",
       "2016-08-10 17:45:00     1\n",
       "                       ..\n",
       "2016-08-16 03:15:00     6\n",
       "2016-08-16 03:30:00     6\n",
       "2016-08-16 03:45:00     6\n",
       "2016-08-16 04:00:00     6\n",
       "2016-08-16 04:15:00     6\n",
       "2016-08-16 04:30:00     6\n",
       "2016-08-16 04:45:00     6\n",
       "2016-08-16 05:00:00     6\n",
       "2016-08-16 05:15:00     6\n",
       "2016-08-16 05:30:00     6\n",
       "2016-08-16 05:45:00     6\n",
       "2016-08-16 06:00:00     6\n",
       "2016-08-16 06:15:00     6\n",
       "2016-08-16 06:30:00     6\n",
       "2016-08-16 06:45:00     6\n",
       "2016-08-16 07:00:00     6\n",
       "2016-08-16 07:15:00     6\n",
       "2016-08-16 07:30:00     6\n",
       "2016-08-16 07:45:00     6\n",
       "2016-08-16 08:00:00     6\n",
       "2016-08-16 08:15:00     6\n",
       "2016-08-16 08:30:00     6\n",
       "2016-08-16 08:45:00     6\n",
       "2016-08-16 09:00:00     6\n",
       "2016-08-16 09:15:00     6\n",
       "2016-08-16 09:30:00     6\n",
       "2016-08-16 09:45:00     6\n",
       "2016-08-16 10:00:00     6\n",
       "2016-08-16 10:15:00     6\n",
       "2016-08-16 10:30:00     6\n",
       "Freq: 900S, dtype: float64"
      ]
     },
     "execution_count": 67,
     "metadata": {},
     "output_type": "execute_result"
    }
   ],
   "source": [
    "ser2 = ser.resample(rule=\"%ds\"%clock_s, fill_method='pad', closed=[\"left\", \"right\"])\n",
    "ser2"
   ]
  },
  {
   "cell_type": "code",
   "execution_count": 30,
   "metadata": {
    "collapsed": false
   },
   "outputs": [
    {
     "data": {
      "text/plain": [
       "2016-08-10 10:30:00    1\n",
       "2016-08-10 10:45:00    1\n",
       "2016-08-10 11:00:00    1\n",
       "2016-08-10 11:15:00    1\n",
       "2016-08-10 11:30:00    1\n",
       "2016-08-10 11:45:00    1\n",
       "2016-08-10 12:00:00    1\n",
       "2016-08-10 12:15:00    1\n",
       "2016-08-10 12:30:00    1\n",
       "2016-08-10 12:45:00    1\n",
       "2016-08-10 13:00:00    1\n",
       "2016-08-10 13:15:00    1\n",
       "2016-08-10 13:30:00    1\n",
       "2016-08-10 13:45:00    1\n",
       "2016-08-10 14:00:00    1\n",
       "2016-08-10 14:15:00    1\n",
       "2016-08-10 14:30:00    1\n",
       "2016-08-10 14:45:00    1\n",
       "2016-08-10 15:00:00    1\n",
       "2016-08-10 15:15:00    1\n",
       "2016-08-10 15:30:00    1\n",
       "2016-08-10 15:45:00    1\n",
       "2016-08-10 16:00:00    1\n",
       "2016-08-10 16:15:00    1\n",
       "2016-08-10 16:30:00    1\n",
       "2016-08-10 16:45:00    1\n",
       "2016-08-10 17:00:00    1\n",
       "2016-08-10 17:15:00    1\n",
       "2016-08-10 17:30:00    1\n",
       "2016-08-10 17:45:00    1\n",
       "                      ..\n",
       "2016-08-16 03:15:00    6\n",
       "2016-08-16 03:30:00    6\n",
       "2016-08-16 03:45:00    6\n",
       "2016-08-16 04:00:00    6\n",
       "2016-08-16 04:15:00    6\n",
       "2016-08-16 04:30:00    6\n",
       "2016-08-16 04:45:00    6\n",
       "2016-08-16 05:00:00    6\n",
       "2016-08-16 05:15:00    6\n",
       "2016-08-16 05:30:00    6\n",
       "2016-08-16 05:45:00    6\n",
       "2016-08-16 06:00:00    6\n",
       "2016-08-16 06:15:00    6\n",
       "2016-08-16 06:30:00    6\n",
       "2016-08-16 06:45:00    6\n",
       "2016-08-16 07:00:00    6\n",
       "2016-08-16 07:15:00    6\n",
       "2016-08-16 07:30:00    6\n",
       "2016-08-16 07:45:00    6\n",
       "2016-08-16 08:00:00    6\n",
       "2016-08-16 08:15:00    6\n",
       "2016-08-16 08:30:00    6\n",
       "2016-08-16 08:45:00    6\n",
       "2016-08-16 09:00:00    6\n",
       "2016-08-16 09:15:00    6\n",
       "2016-08-16 09:30:00    6\n",
       "2016-08-16 09:45:00    6\n",
       "2016-08-16 10:00:00    6\n",
       "2016-08-16 10:15:00    6\n",
       "2016-08-16 10:30:00    6\n",
       "Freq: 900S, dtype: float64"
      ]
     },
     "execution_count": 30,
     "metadata": {},
     "output_type": "execute_result"
    }
   ],
   "source": [
    "ser2.fillna(method=\"bfill\")"
   ]
  },
  {
   "cell_type": "code",
   "execution_count": 7,
   "metadata": {
    "collapsed": false
   },
   "outputs": [],
   "source": [
    "table = pd.DataFrame(np.random.rand(12,3), columns =[\"from\", \"to\", \"weight\"])"
   ]
  },
  {
   "cell_type": "code",
   "execution_count": 8,
   "metadata": {
    "collapsed": false
   },
   "outputs": [
    {
     "data": {
      "text/html": [
       "<div>\n",
       "<table border=\"1\" class=\"dataframe\">\n",
       "  <thead>\n",
       "    <tr style=\"text-align: right;\">\n",
       "      <th></th>\n",
       "      <th>from</th>\n",
       "      <th>to</th>\n",
       "      <th>weight</th>\n",
       "    </tr>\n",
       "  </thead>\n",
       "  <tbody>\n",
       "    <tr>\n",
       "      <th>0</th>\n",
       "      <td>0.191746</td>\n",
       "      <td>0.591068</td>\n",
       "      <td>0.664650</td>\n",
       "    </tr>\n",
       "    <tr>\n",
       "      <th>1</th>\n",
       "      <td>0.119819</td>\n",
       "      <td>0.750381</td>\n",
       "      <td>0.551775</td>\n",
       "    </tr>\n",
       "    <tr>\n",
       "      <th>2</th>\n",
       "      <td>0.174018</td>\n",
       "      <td>0.994252</td>\n",
       "      <td>0.268237</td>\n",
       "    </tr>\n",
       "    <tr>\n",
       "      <th>3</th>\n",
       "      <td>0.218828</td>\n",
       "      <td>0.227844</td>\n",
       "      <td>0.574534</td>\n",
       "    </tr>\n",
       "    <tr>\n",
       "      <th>4</th>\n",
       "      <td>0.666035</td>\n",
       "      <td>0.068595</td>\n",
       "      <td>0.677125</td>\n",
       "    </tr>\n",
       "    <tr>\n",
       "      <th>5</th>\n",
       "      <td>0.201719</td>\n",
       "      <td>0.417361</td>\n",
       "      <td>0.540864</td>\n",
       "    </tr>\n",
       "    <tr>\n",
       "      <th>6</th>\n",
       "      <td>0.439700</td>\n",
       "      <td>0.203553</td>\n",
       "      <td>0.709968</td>\n",
       "    </tr>\n",
       "    <tr>\n",
       "      <th>7</th>\n",
       "      <td>0.172645</td>\n",
       "      <td>0.351352</td>\n",
       "      <td>0.645310</td>\n",
       "    </tr>\n",
       "    <tr>\n",
       "      <th>8</th>\n",
       "      <td>0.461428</td>\n",
       "      <td>0.714206</td>\n",
       "      <td>0.381338</td>\n",
       "    </tr>\n",
       "    <tr>\n",
       "      <th>9</th>\n",
       "      <td>0.893996</td>\n",
       "      <td>0.252387</td>\n",
       "      <td>0.158527</td>\n",
       "    </tr>\n",
       "    <tr>\n",
       "      <th>10</th>\n",
       "      <td>0.580279</td>\n",
       "      <td>0.424639</td>\n",
       "      <td>0.023987</td>\n",
       "    </tr>\n",
       "    <tr>\n",
       "      <th>11</th>\n",
       "      <td>0.475353</td>\n",
       "      <td>0.437346</td>\n",
       "      <td>0.481137</td>\n",
       "    </tr>\n",
       "  </tbody>\n",
       "</table>\n",
       "</div>"
      ],
      "text/plain": [
       "        from        to    weight\n",
       "0   0.191746  0.591068  0.664650\n",
       "1   0.119819  0.750381  0.551775\n",
       "2   0.174018  0.994252  0.268237\n",
       "3   0.218828  0.227844  0.574534\n",
       "4   0.666035  0.068595  0.677125\n",
       "5   0.201719  0.417361  0.540864\n",
       "6   0.439700  0.203553  0.709968\n",
       "7   0.172645  0.351352  0.645310\n",
       "8   0.461428  0.714206  0.381338\n",
       "9   0.893996  0.252387  0.158527\n",
       "10  0.580279  0.424639  0.023987\n",
       "11  0.475353  0.437346  0.481137"
      ]
     },
     "execution_count": 8,
     "metadata": {},
     "output_type": "execute_result"
    }
   ],
   "source": [
    "table"
   ]
  },
  {
   "cell_type": "code",
   "execution_count": 27,
   "metadata": {
    "collapsed": false
   },
   "outputs": [],
   "source": []
  },
  {
   "cell_type": "code",
   "execution_count": 28,
   "metadata": {
    "collapsed": false
   },
   "outputs": [
    {
     "data": {
      "text/plain": [
       "{'1234': {'choice': 0,\n",
       "  'choice_set': {0: {'A': 100, 'B': 200, 'C': 300},\n",
       "   1: {'A': 200, 'B': 300, 'C': 300},\n",
       "   2: {'A': 500, 'B': 300, 'C': 300}}},\n",
       " '1876': {'choice': 2,\n",
       "  'choice_set': {0: {'A': 100, 'B': 400, 'C': 300},\n",
       "   1: {'A': 100, 'B': 300, 'C': 1000},\n",
       "   2: {'A': 600, 'B': 200, 'C': 100}}},\n",
       " '234': {'choice': 1,\n",
       "  'choice_set': {0: {'A': 100, 'B': 400}, 1: {'A': 100, 'B': 300, 'C': 1000}}}}"
      ]
     },
     "execution_count": 28,
     "metadata": {},
     "output_type": "execute_result"
    }
   ],
   "source": [
    "dictionary_example"
   ]
  },
  {
   "cell_type": "code",
   "execution_count": 61,
   "metadata": {
    "collapsed": false
   },
   "outputs": [
    {
     "data": {
      "text/html": [
       "<div>\n",
       "<table border=\"1\" class=\"dataframe\">\n",
       "  <thead>\n",
       "    <tr style=\"text-align: right;\">\n",
       "      <th></th>\n",
       "      <th>choice</th>\n",
       "      <th>choice_set</th>\n",
       "    </tr>\n",
       "  </thead>\n",
       "  <tbody>\n",
       "    <tr>\n",
       "      <th>1234</th>\n",
       "      <td>0</td>\n",
       "      <td>{u'1': {u'A': 200, u'C': 300, u'B': 300}, u'0'...</td>\n",
       "    </tr>\n",
       "    <tr>\n",
       "      <th>1876</th>\n",
       "      <td>2</td>\n",
       "      <td>{u'1': {u'A': 100, u'C': 1000, u'B': 300}, u'0...</td>\n",
       "    </tr>\n",
       "    <tr>\n",
       "      <th>234</th>\n",
       "      <td>1</td>\n",
       "      <td>{u'1': {u'A': 100, u'C': 1000, u'B': 300}, u'0...</td>\n",
       "    </tr>\n",
       "  </tbody>\n",
       "</table>\n",
       "</div>"
      ],
      "text/plain": [
       "     choice                                         choice_set\n",
       "1234      0  {u'1': {u'A': 200, u'C': 300, u'B': 300}, u'0'...\n",
       "1876      2  {u'1': {u'A': 100, u'C': 1000, u'B': 300}, u'0...\n",
       "234       1  {u'1': {u'A': 100, u'C': 1000, u'B': 300}, u'0..."
      ]
     },
     "execution_count": 61,
     "metadata": {},
     "output_type": "execute_result"
    }
   ],
   "source": [
    "import json\n",
    "\n",
    "dictionary_example={\n",
    "    \"1234\":{'choice':0,'choice_set':{0:{'A':100,'B':200,'C':300},1:{'A':200,'B':300,'C':300},2:{'A':500,'B':300,'C':300}}},\n",
    "   \"234\":{'choice':1,'choice_set':{0:{'A':100,'B':400},1:{'A':100,'B':300,'C':1000}}},\n",
    "   \"1876\":{'choice':2,'choice_set':{0:{'A': 100,'B':400,'C':300},1:{'A':100,'B':300,'C':1000},2:{'A':600,'B':200,'C':100}}}\n",
    "       \n",
    "}\n",
    "\n",
    "df = pd.read_json(json.dumps(dictionary_example)).T\n",
    "\n",
    "df"
   ]
  },
  {
   "cell_type": "code",
   "execution_count": 79,
   "metadata": {
    "collapsed": false
   },
   "outputs": [
    {
     "data": {
      "text/html": [
       "<div>\n",
       "<table border=\"1\" class=\"dataframe\">\n",
       "  <thead>\n",
       "    <tr style=\"text-align: right;\">\n",
       "      <th></th>\n",
       "      <th>choice</th>\n",
       "      <th>0.0_A</th>\n",
       "      <th>0.0_B</th>\n",
       "      <th>0.0_C</th>\n",
       "      <th>1.0_A</th>\n",
       "      <th>1.0_B</th>\n",
       "      <th>1.0_C</th>\n",
       "      <th>2.0_A</th>\n",
       "      <th>2.0_B</th>\n",
       "      <th>2.0_C</th>\n",
       "    </tr>\n",
       "  </thead>\n",
       "  <tbody>\n",
       "    <tr>\n",
       "      <th>1234</th>\n",
       "      <td>0</td>\n",
       "      <td>100</td>\n",
       "      <td>200</td>\n",
       "      <td>300</td>\n",
       "      <td>200</td>\n",
       "      <td>300</td>\n",
       "      <td>300</td>\n",
       "      <td>500</td>\n",
       "      <td>300</td>\n",
       "      <td>300</td>\n",
       "    </tr>\n",
       "    <tr>\n",
       "      <th>1876</th>\n",
       "      <td>2</td>\n",
       "      <td>100</td>\n",
       "      <td>400</td>\n",
       "      <td>300</td>\n",
       "      <td>100</td>\n",
       "      <td>300</td>\n",
       "      <td>1000</td>\n",
       "      <td>600</td>\n",
       "      <td>200</td>\n",
       "      <td>100</td>\n",
       "    </tr>\n",
       "    <tr>\n",
       "      <th>234</th>\n",
       "      <td>1</td>\n",
       "      <td>100</td>\n",
       "      <td>400</td>\n",
       "      <td>NaN</td>\n",
       "      <td>100</td>\n",
       "      <td>300</td>\n",
       "      <td>1000</td>\n",
       "      <td>NaN</td>\n",
       "      <td>NaN</td>\n",
       "      <td>NaN</td>\n",
       "    </tr>\n",
       "  </tbody>\n",
       "</table>\n",
       "</div>"
      ],
      "text/plain": [
       "     choice  0.0_A  0.0_B  0.0_C  1.0_A  1.0_B  1.0_C  2.0_A  2.0_B  2.0_C\n",
       "1234      0    100    200    300    200    300    300    500    300    300\n",
       "1876      2    100    400    300    100    300   1000    600    200    100\n",
       "234       1    100    400    NaN    100    300   1000    NaN    NaN    NaN"
      ]
     },
     "execution_count": 79,
     "metadata": {},
     "output_type": "execute_result"
    }
   ],
   "source": [
    "dictionary_example={\n",
    "        \"1234\":{'choice':0,'choice_set':{0:{'A':100,'B':200,'C':300},1:{'A':200,'B':300,'C':300},2:{'A':500,'B':300,'C':300}}},\n",
    "       \"234\":{'choice':1,'choice_set':{0:{'A':100,'B':400},1:{'A':100,'B':300,'C':1000}}},\n",
    "       \"1876\":{'choice':2,'choice_set':{0:{'A': 100,'B':400,'C':300},1:{'A':100,'B':300,'C':1000},2:{'A':600,'B':200,'C':100}}}\n",
    "           \n",
    "    }\n",
    "    \n",
    "df = pd.read_json(json.dumps(dictionary_example)).T\n",
    "\n",
    "\n",
    "def to_s(r):\n",
    "    return pd.read_json(json.dumps(r)).unstack()\n",
    "\n",
    "flattened_choice_set = df[\"choice_set\"].apply(to_s)\n",
    "\n",
    "flattened_choice_set.columns = ['_'.join((str(col[0]), col[1])) for col in flattened_choice_set.columns] \n",
    "\n",
    "result = pd.merge(df, flattened_choice_set, \n",
    "         left_index=True, right_index=True).drop(\"choice_set\", axis=1)\n",
    "\n",
    "result"
   ]
  },
  {
   "cell_type": "code",
   "execution_count": 73,
   "metadata": {
    "collapsed": false
   },
   "outputs": [
    {
     "data": {
      "text/plain": [
       "[u'A_0', u'B_0', u'C_0', u'A_1', u'B_1', u'C_1', u'A_2', u'B_2', u'C_2']"
      ]
     },
     "execution_count": 73,
     "metadata": {},
     "output_type": "execute_result"
    }
   ],
   "source": []
  },
  {
   "cell_type": "code",
   "execution_count": 52,
   "metadata": {
    "collapsed": false
   },
   "outputs": [
    {
     "data": {
      "text/plain": [
       "0  A    100\n",
       "   B    200\n",
       "   C    300\n",
       "1  A    200\n",
       "   B    300\n",
       "   C    300\n",
       "2  A    500\n",
       "   B    300\n",
       "   C    300\n",
       "dtype: int64"
      ]
     },
     "execution_count": 52,
     "metadata": {},
     "output_type": "execute_result"
    }
   ],
   "source": [
    "df2 = pd.read_json(json.dumps({u'1': {u'A': 200, u'C': 300, u'B': 300}, u'0': {u'A': 100, u'C': 300, u'B': 200}, u'2': {u'A': 500, u'C': 300, u'B': 300}}))\n",
    "df2.unstack()"
   ]
  },
  {
   "cell_type": "code",
   "execution_count": 4,
   "metadata": {
    "collapsed": false
   },
   "outputs": [
    {
     "data": {
      "text/html": [
       "<div>\n",
       "<table border=\"1\" class=\"dataframe\">\n",
       "  <thead>\n",
       "    <tr style=\"text-align: right;\">\n",
       "      <th></th>\n",
       "      <th></th>\n",
       "      <th></th>\n",
       "      <th>0</th>\n",
       "    </tr>\n",
       "    <tr>\n",
       "      <th></th>\n",
       "      <th></th>\n",
       "      <th>param</th>\n",
       "      <th></th>\n",
       "    </tr>\n",
       "  </thead>\n",
       "  <tbody>\n",
       "    <tr>\n",
       "      <th rowspan=\"3\" valign=\"top\">0</th>\n",
       "      <th>from</th>\n",
       "      <th>value</th>\n",
       "      <td>0.489981</td>\n",
       "    </tr>\n",
       "    <tr>\n",
       "      <th>to</th>\n",
       "      <th>value</th>\n",
       "      <td>0.643203</td>\n",
       "    </tr>\n",
       "    <tr>\n",
       "      <th>weight</th>\n",
       "      <th>value</th>\n",
       "      <td>0.353708</td>\n",
       "    </tr>\n",
       "    <tr>\n",
       "      <th rowspan=\"3\" valign=\"top\">1</th>\n",
       "      <th>from</th>\n",
       "      <th>value</th>\n",
       "      <td>0.707611</td>\n",
       "    </tr>\n",
       "    <tr>\n",
       "      <th>to</th>\n",
       "      <th>value</th>\n",
       "      <td>0.056023</td>\n",
       "    </tr>\n",
       "    <tr>\n",
       "      <th>weight</th>\n",
       "      <th>value</th>\n",
       "      <td>0.403421</td>\n",
       "    </tr>\n",
       "    <tr>\n",
       "      <th rowspan=\"3\" valign=\"top\">2</th>\n",
       "      <th>from</th>\n",
       "      <th>value</th>\n",
       "      <td>0.142831</td>\n",
       "    </tr>\n",
       "    <tr>\n",
       "      <th>to</th>\n",
       "      <th>value</th>\n",
       "      <td>0.613053</td>\n",
       "    </tr>\n",
       "    <tr>\n",
       "      <th>weight</th>\n",
       "      <th>value</th>\n",
       "      <td>0.233716</td>\n",
       "    </tr>\n",
       "    <tr>\n",
       "      <th rowspan=\"3\" valign=\"top\">3</th>\n",
       "      <th>from</th>\n",
       "      <th>value</th>\n",
       "      <td>0.754613</td>\n",
       "    </tr>\n",
       "    <tr>\n",
       "      <th>to</th>\n",
       "      <th>value</th>\n",
       "      <td>0.265937</td>\n",
       "    </tr>\n",
       "    <tr>\n",
       "      <th>weight</th>\n",
       "      <th>value</th>\n",
       "      <td>0.647274</td>\n",
       "    </tr>\n",
       "    <tr>\n",
       "      <th rowspan=\"3\" valign=\"top\">4</th>\n",
       "      <th>from</th>\n",
       "      <th>value</th>\n",
       "      <td>0.549456</td>\n",
       "    </tr>\n",
       "    <tr>\n",
       "      <th>to</th>\n",
       "      <th>value</th>\n",
       "      <td>0.162169</td>\n",
       "    </tr>\n",
       "    <tr>\n",
       "      <th>weight</th>\n",
       "      <th>value</th>\n",
       "      <td>0.842076</td>\n",
       "    </tr>\n",
       "    <tr>\n",
       "      <th rowspan=\"3\" valign=\"top\">5</th>\n",
       "      <th>from</th>\n",
       "      <th>value</th>\n",
       "      <td>0.439067</td>\n",
       "    </tr>\n",
       "    <tr>\n",
       "      <th>to</th>\n",
       "      <th>value</th>\n",
       "      <td>0.527567</td>\n",
       "    </tr>\n",
       "    <tr>\n",
       "      <th>weight</th>\n",
       "      <th>value</th>\n",
       "      <td>0.752204</td>\n",
       "    </tr>\n",
       "    <tr>\n",
       "      <th rowspan=\"3\" valign=\"top\">6</th>\n",
       "      <th>from</th>\n",
       "      <th>value</th>\n",
       "      <td>0.690356</td>\n",
       "    </tr>\n",
       "    <tr>\n",
       "      <th>to</th>\n",
       "      <th>value</th>\n",
       "      <td>0.223629</td>\n",
       "    </tr>\n",
       "    <tr>\n",
       "      <th>weight</th>\n",
       "      <th>value</th>\n",
       "      <td>0.539107</td>\n",
       "    </tr>\n",
       "    <tr>\n",
       "      <th rowspan=\"3\" valign=\"top\">7</th>\n",
       "      <th>from</th>\n",
       "      <th>value</th>\n",
       "      <td>0.050790</td>\n",
       "    </tr>\n",
       "    <tr>\n",
       "      <th>to</th>\n",
       "      <th>value</th>\n",
       "      <td>0.475801</td>\n",
       "    </tr>\n",
       "    <tr>\n",
       "      <th>weight</th>\n",
       "      <th>value</th>\n",
       "      <td>0.281711</td>\n",
       "    </tr>\n",
       "    <tr>\n",
       "      <th rowspan=\"3\" valign=\"top\">8</th>\n",
       "      <th>from</th>\n",
       "      <th>value</th>\n",
       "      <td>0.579367</td>\n",
       "    </tr>\n",
       "    <tr>\n",
       "      <th>to</th>\n",
       "      <th>value</th>\n",
       "      <td>0.956588</td>\n",
       "    </tr>\n",
       "    <tr>\n",
       "      <th>weight</th>\n",
       "      <th>value</th>\n",
       "      <td>0.857197</td>\n",
       "    </tr>\n",
       "    <tr>\n",
       "      <th rowspan=\"3\" valign=\"top\">9</th>\n",
       "      <th>from</th>\n",
       "      <th>value</th>\n",
       "      <td>0.664748</td>\n",
       "    </tr>\n",
       "    <tr>\n",
       "      <th>to</th>\n",
       "      <th>value</th>\n",
       "      <td>0.118639</td>\n",
       "    </tr>\n",
       "    <tr>\n",
       "      <th>weight</th>\n",
       "      <th>value</th>\n",
       "      <td>0.335659</td>\n",
       "    </tr>\n",
       "    <tr>\n",
       "      <th rowspan=\"3\" valign=\"top\">10</th>\n",
       "      <th>from</th>\n",
       "      <th>value</th>\n",
       "      <td>0.677562</td>\n",
       "    </tr>\n",
       "    <tr>\n",
       "      <th>to</th>\n",
       "      <th>value</th>\n",
       "      <td>0.588064</td>\n",
       "    </tr>\n",
       "    <tr>\n",
       "      <th>weight</th>\n",
       "      <th>value</th>\n",
       "      <td>0.316270</td>\n",
       "    </tr>\n",
       "    <tr>\n",
       "      <th rowspan=\"3\" valign=\"top\">11</th>\n",
       "      <th>from</th>\n",
       "      <th>value</th>\n",
       "      <td>0.188803</td>\n",
       "    </tr>\n",
       "    <tr>\n",
       "      <th>to</th>\n",
       "      <th>value</th>\n",
       "      <td>0.375113</td>\n",
       "    </tr>\n",
       "    <tr>\n",
       "      <th>weight</th>\n",
       "      <th>value</th>\n",
       "      <td>0.944784</td>\n",
       "    </tr>\n",
       "  </tbody>\n",
       "</table>\n",
       "</div>"
      ],
      "text/plain": [
       "                        0\n",
       "          param          \n",
       "0  from   value  0.489981\n",
       "   to     value  0.643203\n",
       "   weight value  0.353708\n",
       "1  from   value  0.707611\n",
       "   to     value  0.056023\n",
       "   weight value  0.403421\n",
       "2  from   value  0.142831\n",
       "   to     value  0.613053\n",
       "   weight value  0.233716\n",
       "3  from   value  0.754613\n",
       "   to     value  0.265937\n",
       "   weight value  0.647274\n",
       "4  from   value  0.549456\n",
       "   to     value  0.162169\n",
       "   weight value  0.842076\n",
       "5  from   value  0.439067\n",
       "   to     value  0.527567\n",
       "   weight value  0.752204\n",
       "6  from   value  0.690356\n",
       "   to     value  0.223629\n",
       "   weight value  0.539107\n",
       "7  from   value  0.050790\n",
       "   to     value  0.475801\n",
       "   weight value  0.281711\n",
       "8  from   value  0.579367\n",
       "   to     value  0.956588\n",
       "   weight value  0.857197\n",
       "9  from   value  0.664748\n",
       "   to     value  0.118639\n",
       "   weight value  0.335659\n",
       "10 from   value  0.677562\n",
       "   to     value  0.588064\n",
       "   weight value  0.316270\n",
       "11 from   value  0.188803\n",
       "   to     value  0.375113\n",
       "   weight value  0.944784"
      ]
     },
     "execution_count": 4,
     "metadata": {},
     "output_type": "execute_result"
    }
   ],
   "source": [
    "table2 = pd.DataFrame(table.stack())\n",
    "table2[\"param\"] = \"value\"\n",
    "table3= table2.set_index(\"param\", append=True)\n",
    "table3"
   ]
  },
  {
   "cell_type": "code",
   "execution_count": 5,
   "metadata": {
    "collapsed": false
   },
   "outputs": [
    {
     "data": {
      "text/html": [
       "<div>\n",
       "<table border=\"1\" class=\"dataframe\">\n",
       "  <thead>\n",
       "    <tr style=\"text-align: right;\">\n",
       "      <th></th>\n",
       "      <th></th>\n",
       "      <th></th>\n",
       "      <th>0</th>\n",
       "    </tr>\n",
       "    <tr>\n",
       "      <th>param</th>\n",
       "      <th></th>\n",
       "      <th></th>\n",
       "      <th></th>\n",
       "    </tr>\n",
       "  </thead>\n",
       "  <tbody>\n",
       "    <tr>\n",
       "      <th rowspan=\"36\" valign=\"top\">value</th>\n",
       "      <th rowspan=\"3\" valign=\"top\">0</th>\n",
       "      <th>from</th>\n",
       "      <td>0.489981</td>\n",
       "    </tr>\n",
       "    <tr>\n",
       "      <th>to</th>\n",
       "      <td>0.643203</td>\n",
       "    </tr>\n",
       "    <tr>\n",
       "      <th>weight</th>\n",
       "      <td>0.353708</td>\n",
       "    </tr>\n",
       "    <tr>\n",
       "      <th rowspan=\"3\" valign=\"top\">1</th>\n",
       "      <th>from</th>\n",
       "      <td>0.707611</td>\n",
       "    </tr>\n",
       "    <tr>\n",
       "      <th>to</th>\n",
       "      <td>0.056023</td>\n",
       "    </tr>\n",
       "    <tr>\n",
       "      <th>weight</th>\n",
       "      <td>0.403421</td>\n",
       "    </tr>\n",
       "    <tr>\n",
       "      <th rowspan=\"3\" valign=\"top\">2</th>\n",
       "      <th>from</th>\n",
       "      <td>0.142831</td>\n",
       "    </tr>\n",
       "    <tr>\n",
       "      <th>to</th>\n",
       "      <td>0.613053</td>\n",
       "    </tr>\n",
       "    <tr>\n",
       "      <th>weight</th>\n",
       "      <td>0.233716</td>\n",
       "    </tr>\n",
       "    <tr>\n",
       "      <th rowspan=\"3\" valign=\"top\">3</th>\n",
       "      <th>from</th>\n",
       "      <td>0.754613</td>\n",
       "    </tr>\n",
       "    <tr>\n",
       "      <th>to</th>\n",
       "      <td>0.265937</td>\n",
       "    </tr>\n",
       "    <tr>\n",
       "      <th>weight</th>\n",
       "      <td>0.647274</td>\n",
       "    </tr>\n",
       "    <tr>\n",
       "      <th rowspan=\"3\" valign=\"top\">4</th>\n",
       "      <th>from</th>\n",
       "      <td>0.549456</td>\n",
       "    </tr>\n",
       "    <tr>\n",
       "      <th>to</th>\n",
       "      <td>0.162169</td>\n",
       "    </tr>\n",
       "    <tr>\n",
       "      <th>weight</th>\n",
       "      <td>0.842076</td>\n",
       "    </tr>\n",
       "    <tr>\n",
       "      <th rowspan=\"3\" valign=\"top\">5</th>\n",
       "      <th>from</th>\n",
       "      <td>0.439067</td>\n",
       "    </tr>\n",
       "    <tr>\n",
       "      <th>to</th>\n",
       "      <td>0.527567</td>\n",
       "    </tr>\n",
       "    <tr>\n",
       "      <th>weight</th>\n",
       "      <td>0.752204</td>\n",
       "    </tr>\n",
       "    <tr>\n",
       "      <th rowspan=\"3\" valign=\"top\">6</th>\n",
       "      <th>from</th>\n",
       "      <td>0.690356</td>\n",
       "    </tr>\n",
       "    <tr>\n",
       "      <th>to</th>\n",
       "      <td>0.223629</td>\n",
       "    </tr>\n",
       "    <tr>\n",
       "      <th>weight</th>\n",
       "      <td>0.539107</td>\n",
       "    </tr>\n",
       "    <tr>\n",
       "      <th rowspan=\"3\" valign=\"top\">7</th>\n",
       "      <th>from</th>\n",
       "      <td>0.050790</td>\n",
       "    </tr>\n",
       "    <tr>\n",
       "      <th>to</th>\n",
       "      <td>0.475801</td>\n",
       "    </tr>\n",
       "    <tr>\n",
       "      <th>weight</th>\n",
       "      <td>0.281711</td>\n",
       "    </tr>\n",
       "    <tr>\n",
       "      <th rowspan=\"3\" valign=\"top\">8</th>\n",
       "      <th>from</th>\n",
       "      <td>0.579367</td>\n",
       "    </tr>\n",
       "    <tr>\n",
       "      <th>to</th>\n",
       "      <td>0.956588</td>\n",
       "    </tr>\n",
       "    <tr>\n",
       "      <th>weight</th>\n",
       "      <td>0.857197</td>\n",
       "    </tr>\n",
       "    <tr>\n",
       "      <th rowspan=\"3\" valign=\"top\">9</th>\n",
       "      <th>from</th>\n",
       "      <td>0.664748</td>\n",
       "    </tr>\n",
       "    <tr>\n",
       "      <th>to</th>\n",
       "      <td>0.118639</td>\n",
       "    </tr>\n",
       "    <tr>\n",
       "      <th>weight</th>\n",
       "      <td>0.335659</td>\n",
       "    </tr>\n",
       "    <tr>\n",
       "      <th rowspan=\"3\" valign=\"top\">10</th>\n",
       "      <th>from</th>\n",
       "      <td>0.677562</td>\n",
       "    </tr>\n",
       "    <tr>\n",
       "      <th>to</th>\n",
       "      <td>0.588064</td>\n",
       "    </tr>\n",
       "    <tr>\n",
       "      <th>weight</th>\n",
       "      <td>0.316270</td>\n",
       "    </tr>\n",
       "    <tr>\n",
       "      <th rowspan=\"3\" valign=\"top\">11</th>\n",
       "      <th>from</th>\n",
       "      <td>0.188803</td>\n",
       "    </tr>\n",
       "    <tr>\n",
       "      <th>to</th>\n",
       "      <td>0.375113</td>\n",
       "    </tr>\n",
       "    <tr>\n",
       "      <th>weight</th>\n",
       "      <td>0.944784</td>\n",
       "    </tr>\n",
       "    <tr>\n",
       "      <th>seed</th>\n",
       "      <th>0</th>\n",
       "      <th>0</th>\n",
       "      <td>1234.000000</td>\n",
       "    </tr>\n",
       "  </tbody>\n",
       "</table>\n",
       "</div>"
      ],
      "text/plain": [
       "                           0\n",
       "param                       \n",
       "value 0  from       0.489981\n",
       "         to         0.643203\n",
       "         weight     0.353708\n",
       "      1  from       0.707611\n",
       "         to         0.056023\n",
       "         weight     0.403421\n",
       "      2  from       0.142831\n",
       "         to         0.613053\n",
       "         weight     0.233716\n",
       "      3  from       0.754613\n",
       "         to         0.265937\n",
       "         weight     0.647274\n",
       "      4  from       0.549456\n",
       "         to         0.162169\n",
       "         weight     0.842076\n",
       "      5  from       0.439067\n",
       "         to         0.527567\n",
       "         weight     0.752204\n",
       "      6  from       0.690356\n",
       "         to         0.223629\n",
       "         weight     0.539107\n",
       "      7  from       0.050790\n",
       "         to         0.475801\n",
       "         weight     0.281711\n",
       "      8  from       0.579367\n",
       "         to         0.956588\n",
       "         weight     0.857197\n",
       "      9  from       0.664748\n",
       "         to         0.118639\n",
       "         weight     0.335659\n",
       "      10 from       0.677562\n",
       "         to         0.588064\n",
       "         weight     0.316270\n",
       "      11 from       0.188803\n",
       "         to         0.375113\n",
       "         weight     0.944784\n",
       "seed  0  0       1234.000000"
      ]
     },
     "execution_count": 5,
     "metadata": {},
     "output_type": "execute_result"
    }
   ],
   "source": [
    "table3.index = table3.index.reorder_levels([2, 0, 1])\n",
    "table3.loc[(\"seed\", 0, 0)] = 1234\n",
    "table3"
   ]
  },
  {
   "cell_type": "code",
   "execution_count": 6,
   "metadata": {
    "collapsed": false
   },
   "outputs": [
    {
     "data": {
      "text/plain": [
       "1234.0"
      ]
     },
     "execution_count": 6,
     "metadata": {},
     "output_type": "execute_result"
    }
   ],
   "source": [
    "\n",
    "seed = table3.loc[(\"seed\", 0, 0 )][0]\n",
    "seed"
   ]
  },
  {
   "cell_type": "code",
   "execution_count": 7,
   "metadata": {
    "collapsed": false
   },
   "outputs": [
    {
     "data": {
      "text/html": [
       "<div>\n",
       "<table border=\"1\" class=\"dataframe\">\n",
       "  <thead>\n",
       "    <tr style=\"text-align: right;\">\n",
       "      <th></th>\n",
       "      <th>from</th>\n",
       "      <th>to</th>\n",
       "      <th>weight</th>\n",
       "    </tr>\n",
       "  </thead>\n",
       "  <tbody>\n",
       "    <tr>\n",
       "      <th>0</th>\n",
       "      <td>0.489981</td>\n",
       "      <td>0.643203</td>\n",
       "      <td>0.353708</td>\n",
       "    </tr>\n",
       "    <tr>\n",
       "      <th>1</th>\n",
       "      <td>0.707611</td>\n",
       "      <td>0.056023</td>\n",
       "      <td>0.403421</td>\n",
       "    </tr>\n",
       "    <tr>\n",
       "      <th>2</th>\n",
       "      <td>0.142831</td>\n",
       "      <td>0.613053</td>\n",
       "      <td>0.233716</td>\n",
       "    </tr>\n",
       "    <tr>\n",
       "      <th>3</th>\n",
       "      <td>0.754613</td>\n",
       "      <td>0.265937</td>\n",
       "      <td>0.647274</td>\n",
       "    </tr>\n",
       "    <tr>\n",
       "      <th>4</th>\n",
       "      <td>0.549456</td>\n",
       "      <td>0.162169</td>\n",
       "      <td>0.842076</td>\n",
       "    </tr>\n",
       "    <tr>\n",
       "      <th>5</th>\n",
       "      <td>0.439067</td>\n",
       "      <td>0.527567</td>\n",
       "      <td>0.752204</td>\n",
       "    </tr>\n",
       "    <tr>\n",
       "      <th>6</th>\n",
       "      <td>0.690356</td>\n",
       "      <td>0.223629</td>\n",
       "      <td>0.539107</td>\n",
       "    </tr>\n",
       "    <tr>\n",
       "      <th>7</th>\n",
       "      <td>0.050790</td>\n",
       "      <td>0.475801</td>\n",
       "      <td>0.281711</td>\n",
       "    </tr>\n",
       "    <tr>\n",
       "      <th>8</th>\n",
       "      <td>0.579367</td>\n",
       "      <td>0.956588</td>\n",
       "      <td>0.857197</td>\n",
       "    </tr>\n",
       "    <tr>\n",
       "      <th>9</th>\n",
       "      <td>0.664748</td>\n",
       "      <td>0.118639</td>\n",
       "      <td>0.335659</td>\n",
       "    </tr>\n",
       "    <tr>\n",
       "      <th>10</th>\n",
       "      <td>0.677562</td>\n",
       "      <td>0.588064</td>\n",
       "      <td>0.316270</td>\n",
       "    </tr>\n",
       "    <tr>\n",
       "      <th>11</th>\n",
       "      <td>0.188803</td>\n",
       "      <td>0.375113</td>\n",
       "      <td>0.944784</td>\n",
       "    </tr>\n",
       "  </tbody>\n",
       "</table>\n",
       "</div>"
      ],
      "text/plain": [
       "        from        to    weight\n",
       "0   0.489981  0.643203  0.353708\n",
       "1   0.707611  0.056023  0.403421\n",
       "2   0.142831  0.613053  0.233716\n",
       "3   0.754613  0.265937  0.647274\n",
       "4   0.549456  0.162169  0.842076\n",
       "5   0.439067  0.527567  0.752204\n",
       "6   0.690356  0.223629  0.539107\n",
       "7   0.050790  0.475801  0.281711\n",
       "8   0.579367  0.956588  0.857197\n",
       "9   0.664748  0.118639  0.335659\n",
       "10  0.677562  0.588064  0.316270\n",
       "11  0.188803  0.375113  0.944784"
      ]
     },
     "execution_count": 7,
     "metadata": {},
     "output_type": "execute_result"
    }
   ],
   "source": [
    "table4 = table3.loc[(\"value\", slice(None), slice(None))].unstack()\n",
    "table4.columns = table4.columns.droplevel(level=0)\n",
    "table4"
   ]
  },
  {
   "cell_type": "code",
   "execution_count": 8,
   "metadata": {
    "collapsed": false
   },
   "outputs": [],
   "source": [
    "pd.DataFrame?"
   ]
  },
  {
   "cell_type": "code",
   "execution_count": null,
   "metadata": {
    "collapsed": false
   },
   "outputs": [],
   "source": []
  },
  {
   "cell_type": "code",
   "execution_count": null,
   "metadata": {
    "collapsed": true
   },
   "outputs": [],
   "source": []
  },
  {
   "cell_type": "code",
   "execution_count": null,
   "metadata": {
    "collapsed": true
   },
   "outputs": [],
   "source": []
  },
  {
   "cell_type": "code",
   "execution_count": null,
   "metadata": {
    "collapsed": true
   },
   "outputs": [],
   "source": []
  },
  {
   "cell_type": "code",
   "execution_count": null,
   "metadata": {
    "collapsed": true
   },
   "outputs": [],
   "source": []
  },
  {
   "cell_type": "code",
   "execution_count": null,
   "metadata": {
    "collapsed": true
   },
   "outputs": [],
   "source": []
  },
  {
   "cell_type": "code",
   "execution_count": null,
   "metadata": {
    "collapsed": true
   },
   "outputs": [],
   "source": []
  },
  {
   "cell_type": "code",
   "execution_count": null,
   "metadata": {
    "collapsed": true
   },
   "outputs": [],
   "source": []
  },
  {
   "cell_type": "code",
   "execution_count": null,
   "metadata": {
    "collapsed": true
   },
   "outputs": [],
   "source": []
  },
  {
   "cell_type": "code",
   "execution_count": null,
   "metadata": {
    "collapsed": true
   },
   "outputs": [],
   "source": []
  },
  {
   "cell_type": "code",
   "execution_count": null,
   "metadata": {
    "collapsed": true
   },
   "outputs": [],
   "source": []
  },
  {
   "cell_type": "code",
   "execution_count": null,
   "metadata": {
    "collapsed": true
   },
   "outputs": [],
   "source": []
  },
  {
   "cell_type": "code",
   "execution_count": 9,
   "metadata": {
    "collapsed": false
   },
   "outputs": [
    {
     "data": {
      "text/html": [
       "<div>\n",
       "<table border=\"1\" class=\"dataframe\">\n",
       "  <thead>\n",
       "    <tr style=\"text-align: right;\">\n",
       "      <th></th>\n",
       "      <th>from</th>\n",
       "      <th>to</th>\n",
       "      <th>weight</th>\n",
       "    </tr>\n",
       "  </thead>\n",
       "  <tbody>\n",
       "    <tr>\n",
       "      <th>0</th>\n",
       "      <td>0.489981</td>\n",
       "      <td>0.643203</td>\n",
       "      <td>0.353708</td>\n",
       "    </tr>\n",
       "    <tr>\n",
       "      <th>1</th>\n",
       "      <td>0.707611</td>\n",
       "      <td>0.056023</td>\n",
       "      <td>0.403421</td>\n",
       "    </tr>\n",
       "    <tr>\n",
       "      <th>2</th>\n",
       "      <td>0.142831</td>\n",
       "      <td>0.613053</td>\n",
       "      <td>0.233716</td>\n",
       "    </tr>\n",
       "    <tr>\n",
       "      <th>3</th>\n",
       "      <td>0.754613</td>\n",
       "      <td>0.265937</td>\n",
       "      <td>0.647274</td>\n",
       "    </tr>\n",
       "    <tr>\n",
       "      <th>4</th>\n",
       "      <td>0.549456</td>\n",
       "      <td>0.162169</td>\n",
       "      <td>0.842076</td>\n",
       "    </tr>\n",
       "    <tr>\n",
       "      <th>5</th>\n",
       "      <td>0.439067</td>\n",
       "      <td>0.527567</td>\n",
       "      <td>0.752204</td>\n",
       "    </tr>\n",
       "    <tr>\n",
       "      <th>6</th>\n",
       "      <td>0.690356</td>\n",
       "      <td>0.223629</td>\n",
       "      <td>0.539107</td>\n",
       "    </tr>\n",
       "    <tr>\n",
       "      <th>7</th>\n",
       "      <td>0.050790</td>\n",
       "      <td>0.475801</td>\n",
       "      <td>0.281711</td>\n",
       "    </tr>\n",
       "    <tr>\n",
       "      <th>8</th>\n",
       "      <td>0.579367</td>\n",
       "      <td>0.956588</td>\n",
       "      <td>0.857197</td>\n",
       "    </tr>\n",
       "    <tr>\n",
       "      <th>9</th>\n",
       "      <td>0.664748</td>\n",
       "      <td>0.118639</td>\n",
       "      <td>0.335659</td>\n",
       "    </tr>\n",
       "    <tr>\n",
       "      <th>10</th>\n",
       "      <td>0.677562</td>\n",
       "      <td>0.588064</td>\n",
       "      <td>0.316270</td>\n",
       "    </tr>\n",
       "    <tr>\n",
       "      <th>11</th>\n",
       "      <td>0.188803</td>\n",
       "      <td>0.375113</td>\n",
       "      <td>0.944784</td>\n",
       "    </tr>\n",
       "  </tbody>\n",
       "</table>\n",
       "</div>"
      ],
      "text/plain": [
       "        from        to    weight\n",
       "0   0.489981  0.643203  0.353708\n",
       "1   0.707611  0.056023  0.403421\n",
       "2   0.142831  0.613053  0.233716\n",
       "3   0.754613  0.265937  0.647274\n",
       "4   0.549456  0.162169  0.842076\n",
       "5   0.439067  0.527567  0.752204\n",
       "6   0.690356  0.223629  0.539107\n",
       "7   0.050790  0.475801  0.281711\n",
       "8   0.579367  0.956588  0.857197\n",
       "9   0.664748  0.118639  0.335659\n",
       "10  0.677562  0.588064  0.316270\n",
       "11  0.188803  0.375113  0.944784"
      ]
     },
     "execution_count": 9,
     "metadata": {},
     "output_type": "execute_result"
    }
   ],
   "source": [
    "table"
   ]
  },
  {
   "cell_type": "code",
   "execution_count": 14,
   "metadata": {
    "collapsed": true
   },
   "outputs": [],
   "source": []
  },
  {
   "cell_type": "code",
   "execution_count": 11,
   "metadata": {
    "collapsed": true
   },
   "outputs": [],
   "source": [
    "\n",
    "a = {}"
   ]
  },
  {
   "cell_type": "code",
   "execution_count": 12,
   "metadata": {
    "collapsed": false
   },
   "outputs": [
    {
     "data": {
      "text/plain": [
       "0"
      ]
     },
     "execution_count": 12,
     "metadata": {},
     "output_type": "execute_result"
    }
   ],
   "source": [
    "len(a)"
   ]
  },
  {
   "cell_type": "code",
   "execution_count": 24,
   "metadata": {
    "collapsed": false
   },
   "outputs": [],
   "source": [
    "pd.read_csv?"
   ]
  },
  {
   "cell_type": "code",
   "execution_count": 23,
   "metadata": {
    "collapsed": false
   },
   "outputs": [
    {
     "data": {
      "text/plain": [
       "Index([], dtype='object')"
      ]
     },
     "execution_count": 23,
     "metadata": {},
     "output_type": "execute_result"
    }
   ],
   "source": [
    "s2 = pd.read_csv(\"test.csv\", index_col=0)\n",
    "#s2.set_index?\n",
    "s2.columns"
   ]
  },
  {
   "cell_type": "code",
   "execution_count": 22,
   "metadata": {
    "collapsed": false
   },
   "outputs": [
    {
     "data": {
      "text/plain": [
       "pandas.core.frame.DataFrame"
      ]
     },
     "execution_count": 22,
     "metadata": {},
     "output_type": "execute_result"
    }
   ],
   "source": [
    "type(s2)"
   ]
  },
  {
   "cell_type": "code",
   "execution_count": 4,
   "metadata": {
    "collapsed": true
   },
   "outputs": [],
   "source": [
    "week_profile=[1,2,3,4,5,6,7]"
   ]
  },
  {
   "cell_type": "code",
   "execution_count": 6,
   "metadata": {
    "collapsed": false
   },
   "outputs": [],
   "source": [
    "from datetime import timedelta\n",
    "profile = pd.Series(\n",
    "            week_profile,\n",
    "            index=[timedelta(days=d, hours=23, minutes=59, seconds=59)\n",
    "                   for d in range(7)])"
   ]
  },
  {
   "cell_type": "code",
   "execution_count": 7,
   "metadata": {
    "collapsed": false
   },
   "outputs": [
    {
     "data": {
      "text/plain": [
       "0 days 23:59:59    1\n",
       "1 days 23:59:59    2\n",
       "2 days 23:59:59    3\n",
       "3 days 23:59:59    4\n",
       "4 days 23:59:59    5\n",
       "5 days 23:59:59    6\n",
       "6 days 23:59:59    7\n",
       "dtype: int64"
      ]
     },
     "execution_count": 7,
     "metadata": {},
     "output_type": "execute_result"
    }
   ],
   "source": [
    "profile"
   ]
  },
  {
   "cell_type": "code",
   "execution_count": 24,
   "metadata": {
    "collapsed": false
   },
   "outputs": [
    {
     "data": {
      "text/plain": [
       "0    []\n",
       "1    []\n",
       "2    []\n",
       "3    []\n",
       "dtype: object"
      ]
     },
     "execution_count": 24,
     "metadata": {},
     "output_type": "execute_result"
    }
   ],
   "source": [
    "pd.Series([ [], [], [], [] ]) "
   ]
  },
  {
   "cell_type": "code",
   "execution_count": 27,
   "metadata": {
    "collapsed": false
   },
   "outputs": [
    {
     "data": {
      "text/html": [
       "<div>\n",
       "<table border=\"1\" class=\"dataframe\">\n",
       "  <thead>\n",
       "    <tr style=\"text-align: right;\">\n",
       "      <th></th>\n",
       "      <th>abc</th>\n",
       "    </tr>\n",
       "  </thead>\n",
       "  <tbody>\n",
       "    <tr>\n",
       "      <th>1</th>\n",
       "      <td>[]</td>\n",
       "    </tr>\n",
       "    <tr>\n",
       "      <th>2</th>\n",
       "      <td>[]</td>\n",
       "    </tr>\n",
       "    <tr>\n",
       "      <th>3</th>\n",
       "      <td>[]</td>\n",
       "    </tr>\n",
       "    <tr>\n",
       "      <th>4</th>\n",
       "      <td>[]</td>\n",
       "    </tr>\n",
       "  </tbody>\n",
       "</table>\n",
       "</div>"
      ],
      "text/plain": [
       "  abc\n",
       "1  []\n",
       "2  []\n",
       "3  []\n",
       "4  []"
      ]
     },
     "execution_count": 27,
     "metadata": {},
     "output_type": "execute_result"
    }
   ],
   "source": []
  },
  {
   "cell_type": "code",
   "execution_count": null,
   "metadata": {
    "collapsed": true
   },
   "outputs": [],
   "source": []
  }
 ],
 "metadata": {
  "kernelspec": {
   "display_name": "Python 2",
   "language": "python",
   "name": "python2"
  },
  "language_info": {
   "codemirror_mode": {
    "name": "ipython",
    "version": 2
   },
   "file_extension": ".py",
   "mimetype": "text/x-python",
   "name": "python",
   "nbconvert_exporter": "python",
   "pygments_lexer": "ipython2",
   "version": "2.7.11"
  }
 },
 "nbformat": 4,
 "nbformat_minor": 0
}
