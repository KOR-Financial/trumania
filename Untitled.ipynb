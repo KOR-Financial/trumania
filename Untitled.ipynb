{
 "cells": [
  {
   "cell_type": "code",
   "execution_count": 1,
   "metadata": {
    "collapsed": false
   },
   "outputs": [],
   "source": [
    "import networkx as nx\n",
    "import pandas as pd\n",
    "\n",
    "from src.random_generators import MSISDNGenerator, GenericGenerator\n",
    "from src.generator import Actor, Item, Relationship\n",
    "mygen = MSISDNGenerator(\"msisdn-test-1\",\"0032\",[\"472\",\"473\",\"475\",\"476\",\"477\",\"478\",\"479\"],6,123456)\n",
    "timegen = GenericGenerator(\"time-generator\",\"choice\",{\"a\":12,\"p\":[0.1,0.1,0.1,0.1,0.1,0.1,0.1,0.1,0.05,0.05,0.05,0.05]},123456)\n",
    "\n",
    "n_customers = 10"
   ]
  },
  {
   "cell_type": "code",
   "execution_count": 2,
   "metadata": {
    "collapsed": false
   },
   "outputs": [
    {
     "name": "stdout",
     "output_type": "stream",
     "text": [
      "[0 1 1 1 2 2 3 3 4 5 5 6 6]\n",
      "    A  B\n",
      "0   0  6\n",
      "1   1  8\n",
      "2   1  4\n",
      "3   1  6\n",
      "4   2  6\n",
      "5   2  7\n",
      "6   3  6\n",
      "7   3  7\n",
      "8   4  8\n",
      "9   5  8\n",
      "10  5  7\n",
      "11  6  7\n",
      "12  6  8\n",
      "    A  B\n",
      "0   0  6\n",
      "1   1  8\n",
      "2   1  4\n",
      "3   1  6\n",
      "4   2  6\n",
      "5   2  7\n",
      "6   3  6\n",
      "7   3  7\n",
      "8   4  8\n",
      "9   5  8\n",
      "10  5  7\n",
      "11  6  7\n",
      "12  6  8\n"
     ]
    }
   ],
   "source": [
    "customers = Actor(n_customers)\n",
    "customers.add_attribute(\"MSISDN\",mygen)\n",
    "customers.update_attribute(\"clock\",timegen)\n",
    "\n",
    "social_network = pd.DataFrame.from_records(nx.fast_gnp_random_graph(n_customers,0.2,123456).edges(),columns=[\"A\",\"B\"])\n",
    "\n",
    "print social_network[\"A\"].values\n",
    "\n",
    "network = Relationship(\"A\",\"B\")\n",
    "network.add_relation(\"A\",social_network[\"A\"].values,\"B\",social_network[\"B\"].values)\n",
    "\n",
    "print network._table\n"
   ]
  },
  {
   "cell_type": "code",
   "execution_count": null,
   "metadata": {
    "collapsed": false
   },
   "outputs": [],
   "source": [
    "customers._table"
   ]
  },
  {
   "cell_type": "code",
   "execution_count": null,
   "metadata": {
    "collapsed": false
   },
   "outputs": [],
   "source": [
    "customers.who_acts_now()"
   ]
  },
  {
   "cell_type": "code",
   "execution_count": null,
   "metadata": {
    "collapsed": false
   },
   "outputs": [],
   "source": [
    "customers.update_clock()\n",
    "customers.who_acts_now()"
   ]
  },
  {
   "cell_type": "code",
   "execution_count": null,
   "metadata": {
    "collapsed": false
   },
   "outputs": [],
   "source": [
    "output = customers.make_actions(timegen)"
   ]
  },
  {
   "cell_type": "code",
   "execution_count": null,
   "metadata": {
    "collapsed": false
   },
   "outputs": [],
   "source": [
    "output"
   ]
  },
  {
   "cell_type": "code",
   "execution_count": null,
   "metadata": {
    "collapsed": false
   },
   "outputs": [],
   "source": [
    "customers._table"
   ]
  },
  {
   "cell_type": "code",
   "execution_count": null,
   "metadata": {
    "collapsed": true
   },
   "outputs": [],
   "source": []
  }
 ],
 "metadata": {
  "kernelspec": {
   "display_name": "Python 2",
   "language": "python",
   "name": "python2"
  },
  "language_info": {
   "codemirror_mode": {
    "name": "ipython",
    "version": 2
   },
   "file_extension": ".py",
   "mimetype": "text/x-python",
   "name": "python",
   "nbconvert_exporter": "python",
   "pygments_lexer": "ipython2",
   "version": "2.7.11"
  }
 },
 "nbformat": 4,
 "nbformat_minor": 0
}
