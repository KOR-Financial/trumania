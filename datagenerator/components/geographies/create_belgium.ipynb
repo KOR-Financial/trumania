{
 "cells": [
  {
   "cell_type": "markdown",
   "metadata": {},
   "source": [
    "# Converting the Belgium cells from original csv file into an importable circus actor.  "
   ]
  },
  {
   "cell_type": "markdown",
   "metadata": {},
   "source": [
    "## Parsing raw file"
   ]
  },
  {
   "cell_type": "code",
   "execution_count": 1,
   "metadata": {
    "collapsed": false
   },
   "outputs": [
    {
     "data": {
      "text/plain": [
       "(4208, 5)"
      ]
     },
     "execution_count": 1,
     "metadata": {},
     "output_type": "execute_result"
    }
   ],
   "source": [
    "import pandas as pd\n",
    "\n",
    "cells = pd.read_csv(\"cells.csv\")\n",
    "cells.site_name = cells.site_name.str.upper().str.replace(\" \", \"_\")\n",
    "\n",
    "# removing the 3 random sites \n",
    "cells = cells[~(cells.site_name.str[:11] == \"SITE_RANDOM\")]\n",
    "\n",
    "sites = cells[[\"site_name\", \"site_longitude\", \"site_latitude\", \"geo_level1_id\", \"site_urban\"]].drop_duplicates()\n",
    "\n",
    "sites.shape"
   ]
  },
  {
   "cell_type": "code",
   "execution_count": 5,
   "metadata": {
    "collapsed": false
   },
   "outputs": [
    {
     "data": {
      "text/html": [
       "<div>\n",
       "<table border=\"1\" class=\"dataframe\">\n",
       "  <thead>\n",
       "    <tr style=\"text-align: right;\">\n",
       "      <th></th>\n",
       "      <th>site_name</th>\n",
       "      <th>site_longitude</th>\n",
       "      <th>site_latitude</th>\n",
       "      <th>geo_level1_id</th>\n",
       "      <th>site_urban</th>\n",
       "    </tr>\n",
       "  </thead>\n",
       "  <tbody>\n",
       "    <tr>\n",
       "      <th>41400</th>\n",
       "      <td>SITE_005313</td>\n",
       "      <td>4.480148</td>\n",
       "      <td>51.217945</td>\n",
       "      <td>LVL1_Anvers</td>\n",
       "      <td>True</td>\n",
       "    </tr>\n",
       "    <tr>\n",
       "      <th>49458</th>\n",
       "      <td>SITE_003372</td>\n",
       "      <td>4.734956</td>\n",
       "      <td>51.076495</td>\n",
       "      <td>LVL1_Heist-op-den-Berg</td>\n",
       "      <td>False</td>\n",
       "    </tr>\n",
       "    <tr>\n",
       "      <th>45078</th>\n",
       "      <td>SITE_002938</td>\n",
       "      <td>4.522594</td>\n",
       "      <td>50.887851</td>\n",
       "      <td>LVL1_Kortenberg</td>\n",
       "      <td>True</td>\n",
       "    </tr>\n",
       "    <tr>\n",
       "      <th>14988</th>\n",
       "      <td>SITE_001832</td>\n",
       "      <td>4.385839</td>\n",
       "      <td>51.206518</td>\n",
       "      <td>LVL1_Anvers</td>\n",
       "      <td>True</td>\n",
       "    </tr>\n",
       "    <tr>\n",
       "      <th>47058</th>\n",
       "      <td>SITE_009888</td>\n",
       "      <td>3.411210</td>\n",
       "      <td>50.627120</td>\n",
       "      <td>LVL1_Tournai</td>\n",
       "      <td>False</td>\n",
       "    </tr>\n",
       "    <tr>\n",
       "      <th>36990</th>\n",
       "      <td>SITE_006338</td>\n",
       "      <td>5.512299</td>\n",
       "      <td>50.872019</td>\n",
       "      <td>LVL1_Bilzen</td>\n",
       "      <td>False</td>\n",
       "    </tr>\n",
       "    <tr>\n",
       "      <th>49020</th>\n",
       "      <td>SITE_001632</td>\n",
       "      <td>3.354240</td>\n",
       "      <td>50.842673</td>\n",
       "      <td>LVL1_Deerlijk</td>\n",
       "      <td>False</td>\n",
       "    </tr>\n",
       "    <tr>\n",
       "      <th>48306</th>\n",
       "      <td>SITE_011141</td>\n",
       "      <td>4.403788</td>\n",
       "      <td>50.874687</td>\n",
       "      <td>LVL1_Evere</td>\n",
       "      <td>True</td>\n",
       "    </tr>\n",
       "  </tbody>\n",
       "</table>\n",
       "</div>"
      ],
      "text/plain": [
       "         site_name  site_longitude  site_latitude           geo_level1_id  \\\n",
       "41400  SITE_005313        4.480148      51.217945             LVL1_Anvers   \n",
       "49458  SITE_003372        4.734956      51.076495  LVL1_Heist-op-den-Berg   \n",
       "45078  SITE_002938        4.522594      50.887851         LVL1_Kortenberg   \n",
       "14988  SITE_001832        4.385839      51.206518             LVL1_Anvers   \n",
       "47058  SITE_009888        3.411210      50.627120            LVL1_Tournai   \n",
       "36990  SITE_006338        5.512299      50.872019             LVL1_Bilzen   \n",
       "49020  SITE_001632        3.354240      50.842673           LVL1_Deerlijk   \n",
       "48306  SITE_011141        4.403788      50.874687              LVL1_Evere   \n",
       "\n",
       "      site_urban  \n",
       "41400       True  \n",
       "49458      False  \n",
       "45078       True  \n",
       "14988       True  \n",
       "47058      False  \n",
       "36990      False  \n",
       "49020      False  \n",
       "48306       True  "
      ]
     },
     "execution_count": 5,
     "metadata": {},
     "output_type": "execute_result"
    }
   ],
   "source": [
    "sites.sample(8)"
   ]
  },
  {
   "cell_type": "markdown",
   "metadata": {},
   "source": [
    "## Converting to Actor"
   ]
  },
  {
   "cell_type": "code",
   "execution_count": 6,
   "metadata": {
    "collapsed": false
   },
   "outputs": [
    {
     "name": "stderr",
     "output_type": "stream",
     "text": [
      "WARNING:root:  Trying to create attribute with a series but indices will be lost.\n",
      "WARNING:root:  Trying to create attribute with a series but indices will be lost.\n",
      "WARNING:root:  Trying to create attribute with a series but indices will be lost.\n",
      "WARNING:root:  Trying to create attribute with a series but indices will be lost.\n"
     ]
    }
   ],
   "source": [
    "from datagenerator.core import actor\n",
    "from datagenerator.core import circus\n",
    "\n",
    "circus = circus.Circus(name=\"belgium\", master_seed=1234, \n",
    "                start=pd.Timestamp(\"22 July 2012\"), \n",
    "                step_duration=pd.Timedelta(\"12h\") )\n",
    "sites_actor = circus.create_actor(name=\"sites\", ids=sites.site_name)\n",
    "\n",
    "sites_actor.create_attribute(name=\"LATITUDE\",    init_values=sites.site_latitude );\n",
    "sites_actor.create_attribute(name=\"LONGITUDE\",   init_values=sites.site_longitude);\n",
    "sites_actor.create_attribute(name=\"GEO_LEVEL_1\", init_values=sites.geo_level1_id );\n",
    "sites_actor.create_attribute(name=\"URBAN\", init_values=sites.site_urban );\n",
    "\n",
    "cell_rel = sites_actor.create_relationship(name=\"CELLS\")\n",
    "cell_rel.add_relations(from_ids=cells.site_name,to_ids=cells.cell_id)\n"
   ]
  },
  {
   "cell_type": "code",
   "execution_count": 7,
   "metadata": {
    "collapsed": false
   },
   "outputs": [
    {
     "data": {
      "text/html": [
       "<div>\n",
       "<table border=\"1\" class=\"dataframe\">\n",
       "  <thead>\n",
       "    <tr style=\"text-align: right;\">\n",
       "      <th></th>\n",
       "      <th>LATITUDE</th>\n",
       "      <th>URBAN</th>\n",
       "      <th>GEO_LEVEL_1</th>\n",
       "      <th>LONGITUDE</th>\n",
       "    </tr>\n",
       "    <tr>\n",
       "      <th>site_name</th>\n",
       "      <th></th>\n",
       "      <th></th>\n",
       "      <th></th>\n",
       "      <th></th>\n",
       "    </tr>\n",
       "  </thead>\n",
       "  <tbody>\n",
       "    <tr>\n",
       "      <th>SITE_009093</th>\n",
       "      <td>50.463065</td>\n",
       "      <td>False</td>\n",
       "      <td>LVL1_Namur</td>\n",
       "      <td>4.865139</td>\n",
       "    </tr>\n",
       "    <tr>\n",
       "      <th>SITE_004610</th>\n",
       "      <td>51.110042</td>\n",
       "      <td>False</td>\n",
       "      <td>LVL1_Oostkamp</td>\n",
       "      <td>3.184321</td>\n",
       "    </tr>\n",
       "    <tr>\n",
       "      <th>SITE_004380</th>\n",
       "      <td>50.663254</td>\n",
       "      <td>False</td>\n",
       "      <td>LVL1_Silly</td>\n",
       "      <td>3.935571</td>\n",
       "    </tr>\n",
       "    <tr>\n",
       "      <th>SITE_016659</th>\n",
       "      <td>50.846150</td>\n",
       "      <td>True</td>\n",
       "      <td>LVL1_Bruxelles</td>\n",
       "      <td>4.386202</td>\n",
       "    </tr>\n",
       "  </tbody>\n",
       "</table>\n",
       "</div>"
      ],
      "text/plain": [
       "              LATITUDE  URBAN     GEO_LEVEL_1  LONGITUDE\n",
       "site_name                                               \n",
       "SITE_009093  50.463065  False      LVL1_Namur   4.865139\n",
       "SITE_004610  51.110042  False   LVL1_Oostkamp   3.184321\n",
       "SITE_004380  50.663254  False      LVL1_Silly   3.935571\n",
       "SITE_016659  50.846150   True  LVL1_Bruxelles   4.386202"
      ]
     },
     "execution_count": 7,
     "metadata": {},
     "output_type": "execute_result"
    }
   ],
   "source": [
    "circus.actors[\"sites\"].to_dataframe().sample(4)"
   ]
  },
  {
   "cell_type": "markdown",
   "metadata": {},
   "source": [
    "## Saving"
   ]
  },
  {
   "cell_type": "code",
   "execution_count": 8,
   "metadata": {
    "collapsed": false
   },
   "outputs": [
    {
     "name": "stderr",
     "output_type": "stream",
     "text": [
      "WARNING:root:overwriting existing circus belgium\n"
     ]
    }
   ],
   "source": [
    "circus.save_to_db(overwrite=True)"
   ]
  },
  {
   "cell_type": "code",
   "execution_count": null,
   "metadata": {
    "collapsed": true
   },
   "outputs": [],
   "source": []
  }
 ],
 "metadata": {
  "kernelspec": {
   "display_name": "Python 2",
   "language": "python",
   "name": "python2"
  },
  "language_info": {
   "codemirror_mode": {
    "name": "ipython",
    "version": 2
   },
   "file_extension": ".py",
   "mimetype": "text/x-python",
   "name": "python",
   "nbconvert_exporter": "python",
   "pygments_lexer": "ipython2",
   "version": "2.7.12"
  }
 },
 "nbformat": 4,
 "nbformat_minor": 1
}
