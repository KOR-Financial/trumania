{
 "cells": [
  {
   "cell_type": "markdown",
   "metadata": {},
   "source": [
    "# Converting the Belgium cells from original csv file into an importable circus actor.  "
   ]
  },
  {
   "cell_type": "markdown",
   "metadata": {},
   "source": [
    "## Parsing raw file"
   ]
  },
  {
   "cell_type": "code",
   "execution_count": 83,
   "metadata": {
    "collapsed": false
   },
   "outputs": [
    {
     "data": {
      "text/html": [
       "<div>\n",
       "<table border=\"1\" class=\"dataframe\">\n",
       "  <thead>\n",
       "    <tr style=\"text-align: right;\">\n",
       "      <th></th>\n",
       "      <th>cell_id</th>\n",
       "      <th>cell_name</th>\n",
       "      <th>cell_network_id</th>\n",
       "      <th>site_name</th>\n",
       "      <th>site_longitude</th>\n",
       "      <th>site_latitude</th>\n",
       "      <th>geo_level1_id</th>\n",
       "      <th>site_urban</th>\n",
       "      <th>site_id</th>\n",
       "    </tr>\n",
       "  </thead>\n",
       "  <tbody>\n",
       "    <tr>\n",
       "      <th>0</th>\n",
       "      <td>CE000000</td>\n",
       "      <td>Cell 000000</td>\n",
       "      <td>45cf6c6b54a5e6de</td>\n",
       "      <td>SITE_001718</td>\n",
       "      <td>4.088464</td>\n",
       "      <td>50.742858</td>\n",
       "      <td>LVL1_Herne</td>\n",
       "      <td>True</td>\n",
       "      <td>SI001718</td>\n",
       "    </tr>\n",
       "    <tr>\n",
       "      <th>1</th>\n",
       "      <td>CE000001</td>\n",
       "      <td>Cell 000001</td>\n",
       "      <td>39e7e11e273842b2</td>\n",
       "      <td>SITE_001718</td>\n",
       "      <td>4.088464</td>\n",
       "      <td>50.742858</td>\n",
       "      <td>LVL1_Herne</td>\n",
       "      <td>True</td>\n",
       "      <td>SI001718</td>\n",
       "    </tr>\n",
       "    <tr>\n",
       "      <th>2</th>\n",
       "      <td>CE000002</td>\n",
       "      <td>Cell 000002</td>\n",
       "      <td>78d6545cb56b0a02</td>\n",
       "      <td>SITE_001718</td>\n",
       "      <td>4.088464</td>\n",
       "      <td>50.742858</td>\n",
       "      <td>LVL1_Herne</td>\n",
       "      <td>True</td>\n",
       "      <td>SI001718</td>\n",
       "    </tr>\n",
       "    <tr>\n",
       "      <th>3</th>\n",
       "      <td>CE000003</td>\n",
       "      <td>Cell 000003</td>\n",
       "      <td>00e4b57703d15676</td>\n",
       "      <td>SITE_001718</td>\n",
       "      <td>4.088464</td>\n",
       "      <td>50.742858</td>\n",
       "      <td>LVL1_Herne</td>\n",
       "      <td>True</td>\n",
       "      <td>SI001718</td>\n",
       "    </tr>\n",
       "    <tr>\n",
       "      <th>4</th>\n",
       "      <td>CE000004</td>\n",
       "      <td>Cell 000004</td>\n",
       "      <td>ba9f2e47aa3655c0</td>\n",
       "      <td>SITE_001718</td>\n",
       "      <td>4.088464</td>\n",
       "      <td>50.742858</td>\n",
       "      <td>LVL1_Herne</td>\n",
       "      <td>True</td>\n",
       "      <td>SI001718</td>\n",
       "    </tr>\n",
       "  </tbody>\n",
       "</table>\n",
       "</div>"
      ],
      "text/plain": [
       "    cell_id    cell_name   cell_network_id    site_name  site_longitude  \\\n",
       "0  CE000000  Cell 000000  45cf6c6b54a5e6de  SITE_001718        4.088464   \n",
       "1  CE000001  Cell 000001  39e7e11e273842b2  SITE_001718        4.088464   \n",
       "2  CE000002  Cell 000002  78d6545cb56b0a02  SITE_001718        4.088464   \n",
       "3  CE000003  Cell 000003  00e4b57703d15676  SITE_001718        4.088464   \n",
       "4  CE000004  Cell 000004  ba9f2e47aa3655c0  SITE_001718        4.088464   \n",
       "\n",
       "   site_latitude geo_level1_id site_urban   site_id  \n",
       "0      50.742858    LVL1_Herne       True  SI001718  \n",
       "1      50.742858    LVL1_Herne       True  SI001718  \n",
       "2      50.742858    LVL1_Herne       True  SI001718  \n",
       "3      50.742858    LVL1_Herne       True  SI001718  \n",
       "4      50.742858    LVL1_Herne       True  SI001718  "
      ]
     },
     "execution_count": 83,
     "metadata": {},
     "output_type": "execute_result"
    }
   ],
   "source": [
    "cells.head()"
   ]
  },
  {
   "cell_type": "code",
   "execution_count": 82,
   "metadata": {
    "collapsed": false
   },
   "outputs": [
    {
     "data": {
      "text/plain": [
       "(4208, 4)"
      ]
     },
     "execution_count": 82,
     "metadata": {},
     "output_type": "execute_result"
    }
   ],
   "source": [
    "import pandas as pd\n",
    "\n",
    "cells = pd.read_csv(\"cells.csv\")\n",
    "cells.site_name = cells.site_name.str.upper().str.replace(\" \", \"_\")\n",
    "\n",
    "# removing the 3 random sites \n",
    "cells = cells[~(cells.site_name.str[:11] == \"SITE_RANDOM\")]\n",
    "\n",
    "sites = cells[[\"site_name\", \"site_longitude\", \"site_latitude\", \"geo_level1_id\"]].drop_duplicates()\n",
    "\n",
    "sites.shape"
   ]
  },
  {
   "cell_type": "code",
   "execution_count": 84,
   "metadata": {
    "collapsed": false
   },
   "outputs": [
    {
     "data": {
      "text/html": [
       "<div>\n",
       "<table border=\"1\" class=\"dataframe\">\n",
       "  <thead>\n",
       "    <tr style=\"text-align: right;\">\n",
       "      <th></th>\n",
       "      <th>site_name</th>\n",
       "      <th>site_longitude</th>\n",
       "      <th>site_latitude</th>\n",
       "      <th>geo_level1_id</th>\n",
       "    </tr>\n",
       "  </thead>\n",
       "  <tbody>\n",
       "    <tr>\n",
       "      <th>50388</th>\n",
       "      <td>SITE_001367</td>\n",
       "      <td>5.277547</td>\n",
       "      <td>50.866045</td>\n",
       "      <td>LVL1_Alken</td>\n",
       "    </tr>\n",
       "    <tr>\n",
       "      <th>25908</th>\n",
       "      <td>SITE_005135</td>\n",
       "      <td>5.104118</td>\n",
       "      <td>51.296623</td>\n",
       "      <td>LVL1_Arendonk</td>\n",
       "    </tr>\n",
       "    <tr>\n",
       "      <th>27726</th>\n",
       "      <td>SITE_005691</td>\n",
       "      <td>5.717928</td>\n",
       "      <td>49.740395</td>\n",
       "      <td>LVL1_Attert</td>\n",
       "    </tr>\n",
       "    <tr>\n",
       "      <th>47634</th>\n",
       "      <td>SITE_002294</td>\n",
       "      <td>5.504317</td>\n",
       "      <td>51.130652</td>\n",
       "      <td>LVL1_Peer</td>\n",
       "    </tr>\n",
       "    <tr>\n",
       "      <th>1746</th>\n",
       "      <td>SITE_021727</td>\n",
       "      <td>5.664332</td>\n",
       "      <td>51.062493</td>\n",
       "      <td>LVL1_Maaseik</td>\n",
       "    </tr>\n",
       "    <tr>\n",
       "      <th>42426</th>\n",
       "      <td>SITE_001504</td>\n",
       "      <td>4.307167</td>\n",
       "      <td>50.870083</td>\n",
       "      <td>LVL1_Ganshoren</td>\n",
       "    </tr>\n",
       "    <tr>\n",
       "      <th>27216</th>\n",
       "      <td>SITE_004224</td>\n",
       "      <td>3.800453</td>\n",
       "      <td>50.617140</td>\n",
       "      <td>LVL1_Ath</td>\n",
       "    </tr>\n",
       "    <tr>\n",
       "      <th>21618</th>\n",
       "      <td>SITE_002399</td>\n",
       "      <td>4.349989</td>\n",
       "      <td>50.603777</td>\n",
       "      <td>LVL1_Nivelles</td>\n",
       "    </tr>\n",
       "  </tbody>\n",
       "</table>\n",
       "</div>"
      ],
      "text/plain": [
       "         site_name  site_longitude  site_latitude   geo_level1_id\n",
       "50388  SITE_001367        5.277547      50.866045      LVL1_Alken\n",
       "25908  SITE_005135        5.104118      51.296623   LVL1_Arendonk\n",
       "27726  SITE_005691        5.717928      49.740395     LVL1_Attert\n",
       "47634  SITE_002294        5.504317      51.130652       LVL1_Peer\n",
       "1746   SITE_021727        5.664332      51.062493    LVL1_Maaseik\n",
       "42426  SITE_001504        4.307167      50.870083  LVL1_Ganshoren\n",
       "27216  SITE_004224        3.800453      50.617140        LVL1_Ath\n",
       "21618  SITE_002399        4.349989      50.603777   LVL1_Nivelles"
      ]
     },
     "execution_count": 84,
     "metadata": {},
     "output_type": "execute_result"
    }
   ],
   "source": [
    "sites.sample(8)"
   ]
  },
  {
   "cell_type": "markdown",
   "metadata": {},
   "source": [
    "## Converting to Actor"
   ]
  },
  {
   "cell_type": "code",
   "execution_count": 85,
   "metadata": {
    "collapsed": false
   },
   "outputs": [
    {
     "name": "stderr",
     "output_type": "stream",
     "text": [
      "WARNING:root:  Trying to create attribute with a series but indices will be lost.\n",
      "WARNING:root:  Trying to create attribute with a series but indices will be lost.\n",
      "WARNING:root:  Trying to create attribute with a series but indices will be lost.\n"
     ]
    }
   ],
   "source": [
    "from datagenerator.core import actor\n",
    "from datagenerator.core import circus\n",
    "\n",
    "circus = circus.Circus(name=\"belgium\", master_seed=1234, \n",
    "                start=pd.Timestamp(\"22 July 2012\"), \n",
    "                step_duration=pd.Timedelta(\"12h\") )\n",
    "sites_actor = circus.create_actor(name=\"sites\", ids=sites.site_name)\n",
    "\n",
    "sites_actor.create_attribute(name=\"LATITUDE\",    init_values=sites.site_latitude );\n",
    "sites_actor.create_attribute(name=\"LONGITUDE\",   init_values=sites.site_longitude);\n",
    "sites_actor.create_attribute(name=\"GEO_LEVEL_1\", init_values=sites.geo_level1_id );\n",
    "\n",
    "cell_rel = sites_actor.create_relationship(name=\"CELLS\")\n",
    "cell_rel.add_relations(from_ids=cells.site_name,to_ids=cells.cell_id)\n"
   ]
  },
  {
   "cell_type": "code",
   "execution_count": 86,
   "metadata": {
    "collapsed": false
   },
   "outputs": [
    {
     "data": {
      "text/html": [
       "<div>\n",
       "<table border=\"1\" class=\"dataframe\">\n",
       "  <thead>\n",
       "    <tr style=\"text-align: right;\">\n",
       "      <th></th>\n",
       "      <th>LATITUDE</th>\n",
       "      <th>GEO_LEVEL_1</th>\n",
       "      <th>LONGITUDE</th>\n",
       "    </tr>\n",
       "    <tr>\n",
       "      <th>site_name</th>\n",
       "      <th></th>\n",
       "      <th></th>\n",
       "      <th></th>\n",
       "    </tr>\n",
       "  </thead>\n",
       "  <tbody>\n",
       "    <tr>\n",
       "      <th>SITE_001403</th>\n",
       "      <td>50.488032</td>\n",
       "      <td>LVL1_Mons</td>\n",
       "      <td>4.020131</td>\n",
       "    </tr>\n",
       "    <tr>\n",
       "      <th>SITE_006910</th>\n",
       "      <td>51.129826</td>\n",
       "      <td>LVL1_Lochristi</td>\n",
       "      <td>3.850763</td>\n",
       "    </tr>\n",
       "    <tr>\n",
       "      <th>SITE_001651</th>\n",
       "      <td>50.870460</td>\n",
       "      <td>LVL1_Liedekerke</td>\n",
       "      <td>4.082206</td>\n",
       "    </tr>\n",
       "    <tr>\n",
       "      <th>SITE_010654</th>\n",
       "      <td>51.190840</td>\n",
       "      <td>LVL1_Anvers</td>\n",
       "      <td>4.398593</td>\n",
       "    </tr>\n",
       "  </tbody>\n",
       "</table>\n",
       "</div>"
      ],
      "text/plain": [
       "              LATITUDE      GEO_LEVEL_1  LONGITUDE\n",
       "site_name                                         \n",
       "SITE_001403  50.488032        LVL1_Mons   4.020131\n",
       "SITE_006910  51.129826   LVL1_Lochristi   3.850763\n",
       "SITE_001651  50.870460  LVL1_Liedekerke   4.082206\n",
       "SITE_010654  51.190840      LVL1_Anvers   4.398593"
      ]
     },
     "execution_count": 86,
     "metadata": {},
     "output_type": "execute_result"
    }
   ],
   "source": [
    "circus.actors[\"sites\"].to_dataframe().sample(4)"
   ]
  },
  {
   "cell_type": "markdown",
   "metadata": {},
   "source": [
    "## Saving"
   ]
  },
  {
   "cell_type": "code",
   "execution_count": 87,
   "metadata": {
    "collapsed": false
   },
   "outputs": [
    {
     "name": "stderr",
     "output_type": "stream",
     "text": [
      "WARNING:root:overwriting existing circus belgium\n"
     ]
    }
   ],
   "source": [
    "circus.save_to_db(overwrite=True)"
   ]
  },
  {
   "cell_type": "code",
   "execution_count": null,
   "metadata": {
    "collapsed": true
   },
   "outputs": [],
   "source": []
  }
 ],
 "metadata": {
  "kernelspec": {
   "display_name": "Python 2",
   "language": "python",
   "name": "python2"
  },
  "language_info": {
   "codemirror_mode": {
    "name": "ipython",
    "version": 2
   },
   "file_extension": ".py",
   "mimetype": "text/x-python",
   "name": "python",
   "nbconvert_exporter": "python",
   "pygments_lexer": "ipython2",
   "version": "2.7.12"
  }
 },
 "nbformat": 4,
 "nbformat_minor": 1
}
