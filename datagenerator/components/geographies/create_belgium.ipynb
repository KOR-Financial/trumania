{
 "cells": [
  {
   "cell_type": "markdown",
   "metadata": {},
   "source": [
    "# Converting the Belgium cells from original csv file into an importable circus actor.  "
   ]
  },
  {
   "cell_type": "markdown",
   "metadata": {},
   "source": [
    "## Sites"
   ]
  },
  {
   "cell_type": "code",
   "execution_count": 20,
   "metadata": {
    "collapsed": true
   },
   "outputs": [],
   "source": [
    "import pandas as pd"
   ]
  },
  {
   "cell_type": "code",
   "execution_count": 24,
   "metadata": {
    "collapsed": false
   },
   "outputs": [
    {
     "data": {
      "text/plain": [
       "(4208, 5)"
      ]
     },
     "execution_count": 24,
     "metadata": {},
     "output_type": "execute_result"
    }
   ],
   "source": [
    "cells = pd.read_csv(\"source_data/geography/cell.csv\")\n",
    "cells.site_name = cells.site_name.str.upper().str.replace(\" \", \"_\")\n",
    "\n",
    "# removing the 3 random sites \n",
    "cells = cells[~(cells.site_name.str[:11] == \"SITE_RANDOM\")]\n",
    "\n",
    "sites = cells[[\"site_name\", \"site_longitude\", \"site_latitude\", \"geo_level1_id\", \"site_urban\"]].drop_duplicates()\n",
    "\n",
    "sites.shape"
   ]
  },
  {
   "cell_type": "code",
   "execution_count": 25,
   "metadata": {
    "collapsed": false
   },
   "outputs": [
    {
     "data": {
      "text/html": [
       "<div>\n",
       "<table border=\"1\" class=\"dataframe\">\n",
       "  <thead>\n",
       "    <tr style=\"text-align: right;\">\n",
       "      <th></th>\n",
       "      <th>site_name</th>\n",
       "      <th>site_longitude</th>\n",
       "      <th>site_latitude</th>\n",
       "      <th>geo_level1_id</th>\n",
       "      <th>site_urban</th>\n",
       "    </tr>\n",
       "  </thead>\n",
       "  <tbody>\n",
       "    <tr>\n",
       "      <th>7608</th>\n",
       "      <td>SITE_003909</td>\n",
       "      <td>4.371938</td>\n",
       "      <td>50.933528</td>\n",
       "      <td>LVL1_Grimbergen</td>\n",
       "      <td>True</td>\n",
       "    </tr>\n",
       "    <tr>\n",
       "      <th>18906</th>\n",
       "      <td>SITE_003317</td>\n",
       "      <td>4.450927</td>\n",
       "      <td>51.156137</td>\n",
       "      <td>LVL1_Edegem</td>\n",
       "      <td>True</td>\n",
       "    </tr>\n",
       "    <tr>\n",
       "      <th>26820</th>\n",
       "      <td>SITE_001275</td>\n",
       "      <td>4.432213</td>\n",
       "      <td>51.247759</td>\n",
       "      <td>LVL1_Anvers</td>\n",
       "      <td>True</td>\n",
       "    </tr>\n",
       "    <tr>\n",
       "      <th>26442</th>\n",
       "      <td>SITE_006896</td>\n",
       "      <td>4.830730</td>\n",
       "      <td>51.235034</td>\n",
       "      <td>LVL1_Lille</td>\n",
       "      <td>True</td>\n",
       "    </tr>\n",
       "    <tr>\n",
       "      <th>49146</th>\n",
       "      <td>SITE_003222</td>\n",
       "      <td>6.108981</td>\n",
       "      <td>50.479074</td>\n",
       "      <td>LVL1_Waimes</td>\n",
       "      <td>False</td>\n",
       "    </tr>\n",
       "    <tr>\n",
       "      <th>46746</th>\n",
       "      <td>SITE_019726</td>\n",
       "      <td>2.668988</td>\n",
       "      <td>51.131909</td>\n",
       "      <td>LVL1_Koksijde</td>\n",
       "      <td>False</td>\n",
       "    </tr>\n",
       "    <tr>\n",
       "      <th>30462</th>\n",
       "      <td>SITE_009289</td>\n",
       "      <td>3.836600</td>\n",
       "      <td>50.475264</td>\n",
       "      <td>LVL1_Saint-Ghislain</td>\n",
       "      <td>False</td>\n",
       "    </tr>\n",
       "    <tr>\n",
       "      <th>38958</th>\n",
       "      <td>SITE_021024</td>\n",
       "      <td>3.262578</td>\n",
       "      <td>51.162070</td>\n",
       "      <td>LVL1_Oostkamp</td>\n",
       "      <td>False</td>\n",
       "    </tr>\n",
       "  </tbody>\n",
       "</table>\n",
       "</div>"
      ],
      "text/plain": [
       "         site_name  site_longitude  site_latitude        geo_level1_id  \\\n",
       "7608   SITE_003909        4.371938      50.933528      LVL1_Grimbergen   \n",
       "18906  SITE_003317        4.450927      51.156137          LVL1_Edegem   \n",
       "26820  SITE_001275        4.432213      51.247759          LVL1_Anvers   \n",
       "26442  SITE_006896        4.830730      51.235034           LVL1_Lille   \n",
       "49146  SITE_003222        6.108981      50.479074          LVL1_Waimes   \n",
       "46746  SITE_019726        2.668988      51.131909        LVL1_Koksijde   \n",
       "30462  SITE_009289        3.836600      50.475264  LVL1_Saint-Ghislain   \n",
       "38958  SITE_021024        3.262578      51.162070        LVL1_Oostkamp   \n",
       "\n",
       "      site_urban  \n",
       "7608        True  \n",
       "18906       True  \n",
       "26820       True  \n",
       "26442       True  \n",
       "49146      False  \n",
       "46746      False  \n",
       "30462      False  \n",
       "38958      False  "
      ]
     },
     "execution_count": 25,
     "metadata": {},
     "output_type": "execute_result"
    }
   ],
   "source": [
    "sites.sample(8)"
   ]
  },
  {
   "cell_type": "code",
   "execution_count": 60,
   "metadata": {
    "collapsed": false
   },
   "outputs": [
    {
     "name": "stderr",
     "output_type": "stream",
     "text": [
      "WARNING:root:  Trying to create attribute with a series but indices will be lost.\n",
      "WARNING:root:  Trying to create attribute with a series but indices will be lost.\n",
      "WARNING:root:  Trying to create attribute with a series but indices will be lost.\n",
      "WARNING:root:  Trying to create attribute with a series but indices will be lost.\n"
     ]
    }
   ],
   "source": [
    "from datagenerator.core import actor\n",
    "from datagenerator.core import circus\n",
    "\n",
    "circus = circus.Circus(name=\"belgium\", master_seed=1234, \n",
    "                start=pd.Timestamp(\"22 July 2012\"), \n",
    "                step_duration=pd.Timedelta(\"12h\") )\n",
    "sites_actor = circus.create_actor(name=\"sites\", ids=sites.site_name)\n",
    "\n",
    "sites_actor.create_attribute(name=\"LATITUDE\",  init_values=sites.site_latitude );\n",
    "sites_actor.create_attribute(name=\"LONGITUDE\",   init_values=sites.site_longitude);\n",
    "sites_actor.create_attribute(name=\"GEO_LEVEL_1\", init_values=sites.geo_level1_id );\n",
    "sites_actor.create_attribute(name=\"URBAN\", init_values=sites.site_urban );\n",
    "\n",
    "cell_rel = sites_actor.create_relationship(name=\"CELLS\")\n",
    "cell_rel.add_relations(from_ids=cells.site_name,to_ids=cells.cell_id)\n"
   ]
  },
  {
   "cell_type": "code",
   "execution_count": 61,
   "metadata": {
    "collapsed": false
   },
   "outputs": [
    {
     "data": {
      "text/html": [
       "<div>\n",
       "<table border=\"1\" class=\"dataframe\">\n",
       "  <thead>\n",
       "    <tr style=\"text-align: right;\">\n",
       "      <th></th>\n",
       "      <th>LATITUDE</th>\n",
       "      <th>URBAN</th>\n",
       "      <th>GEO_LEVEL_1</th>\n",
       "      <th>LONGITUDE</th>\n",
       "    </tr>\n",
       "    <tr>\n",
       "      <th>site_name</th>\n",
       "      <th></th>\n",
       "      <th></th>\n",
       "      <th></th>\n",
       "      <th></th>\n",
       "    </tr>\n",
       "  </thead>\n",
       "  <tbody>\n",
       "    <tr>\n",
       "      <th>SITE_001581</th>\n",
       "      <td>50.891744</td>\n",
       "      <td>True</td>\n",
       "      <td>LVL1_Geetbets</td>\n",
       "      <td>5.162842</td>\n",
       "    </tr>\n",
       "    <tr>\n",
       "      <th>SITE_021274</th>\n",
       "      <td>50.600061</td>\n",
       "      <td>True</td>\n",
       "      <td>LVL1_Seraing</td>\n",
       "      <td>5.506293</td>\n",
       "    </tr>\n",
       "    <tr>\n",
       "      <th>SITE_007343</th>\n",
       "      <td>51.037676</td>\n",
       "      <td>False</td>\n",
       "      <td>LVL1_Houthalen-Helchteren</td>\n",
       "      <td>5.372035</td>\n",
       "    </tr>\n",
       "    <tr>\n",
       "      <th>SITE_001442</th>\n",
       "      <td>51.157298</td>\n",
       "      <td>True</td>\n",
       "      <td>LVL1_Geel</td>\n",
       "      <td>4.994900</td>\n",
       "    </tr>\n",
       "  </tbody>\n",
       "</table>\n",
       "</div>"
      ],
      "text/plain": [
       "              LATITUDE  URBAN                GEO_LEVEL_1  LONGITUDE\n",
       "site_name                                                          \n",
       "SITE_001581  50.891744   True              LVL1_Geetbets   5.162842\n",
       "SITE_021274  50.600061   True               LVL1_Seraing   5.506293\n",
       "SITE_007343  51.037676  False  LVL1_Houthalen-Helchteren   5.372035\n",
       "SITE_001442  51.157298   True                  LVL1_Geel   4.994900"
      ]
     },
     "execution_count": 61,
     "metadata": {},
     "output_type": "execute_result"
    }
   ],
   "source": [
    "circus.actors[\"sites\"].to_dataframe().sample(4)"
   ]
  },
  {
   "cell_type": "markdown",
   "metadata": {},
   "source": [
    "# Dealers"
   ]
  },
  {
   "cell_type": "code",
   "execution_count": 62,
   "metadata": {
    "collapsed": false
   },
   "outputs": [
    {
     "data": {
      "text/html": [
       "<div>\n",
       "<table border=\"1\" class=\"dataframe\">\n",
       "  <thead>\n",
       "    <tr style=\"text-align: right;\">\n",
       "      <th></th>\n",
       "      <th>agent_id</th>\n",
       "      <th>agent_name</th>\n",
       "      <th>agent_contact_name</th>\n",
       "      <th>agent_contact_phone</th>\n",
       "    </tr>\n",
       "  </thead>\n",
       "  <tbody>\n",
       "    <tr>\n",
       "      <th>1</th>\n",
       "      <td>DIST1</td>\n",
       "      <td>HEINZ DISTRIB 6848</td>\n",
       "      <td>Cristopher Coles</td>\n",
       "      <td>32433162415</td>\n",
       "    </tr>\n",
       "    <tr>\n",
       "      <th>2</th>\n",
       "      <td>DIST2</td>\n",
       "      <td>AMORA DISTRIB 6189</td>\n",
       "      <td>Darron Craver</td>\n",
       "      <td>32497416595</td>\n",
       "    </tr>\n",
       "    <tr>\n",
       "      <th>3</th>\n",
       "      <td>DIST3</td>\n",
       "      <td>DEVOS &amp; LEMMENS DISTRIB 3093</td>\n",
       "      <td>Cristopher Coles</td>\n",
       "      <td>32434046530</td>\n",
       "    </tr>\n",
       "    <tr>\n",
       "      <th>4</th>\n",
       "      <td>DIST4</td>\n",
       "      <td>DEVOS &amp; LEMMENS DISTRIB 190</td>\n",
       "      <td>Adina Pacheo</td>\n",
       "      <td>32495097646</td>\n",
       "    </tr>\n",
       "  </tbody>\n",
       "</table>\n",
       "</div>"
      ],
      "text/plain": [
       "  agent_id                    agent_name agent_contact_name  \\\n",
       "1    DIST1            HEINZ DISTRIB 6848   Cristopher Coles   \n",
       "2    DIST2            AMORA DISTRIB 6189      Darron Craver   \n",
       "3    DIST3  DEVOS & LEMMENS DISTRIB 3093   Cristopher Coles   \n",
       "4    DIST4   DEVOS & LEMMENS DISTRIB 190       Adina Pacheo   \n",
       "\n",
       "   agent_contact_phone  \n",
       "1          32433162415  \n",
       "2          32497416595  \n",
       "3          32434046530  \n",
       "4          32495097646  "
      ]
     },
     "execution_count": 62,
     "metadata": {},
     "output_type": "execute_result"
    }
   ],
   "source": [
    "distributors = pd.read_csv(\"source_data/agent/distributor.csv\").drop(\"agent_class\", axis=1)\n",
    "distributors = distributors[distributors[\"distributor_type\"] != \"origin\"].drop(\"distributor_type\", axis=1)\n",
    "\n",
    "l2_names = [\"DIST1\", \"DIST2\", \"DIST3\", \"DIST4\"]\n",
    "dist_l2 = distributors[distributors[\"agent_id\"].isin(l2_names)] \n",
    "dist_l1 = distributors[~distributors[\"agent_id\"].isin(l2_names)] \n",
    "\n",
    "dist_l2.head()"
   ]
  },
  {
   "cell_type": "code",
   "execution_count": 63,
   "metadata": {
    "collapsed": false
   },
   "outputs": [
    {
     "data": {
      "text/html": [
       "<div>\n",
       "<table border=\"1\" class=\"dataframe\">\n",
       "  <thead>\n",
       "    <tr style=\"text-align: right;\">\n",
       "      <th></th>\n",
       "      <th>agent_id</th>\n",
       "      <th>agent_name</th>\n",
       "      <th>agent_contact_name</th>\n",
       "      <th>agent_contact_phone</th>\n",
       "    </tr>\n",
       "  </thead>\n",
       "  <tbody>\n",
       "    <tr>\n",
       "      <th>5</th>\n",
       "      <td>DIST5</td>\n",
       "      <td>LA WILLIAMS DISTRIB 7331</td>\n",
       "      <td>Coreen Hoxie</td>\n",
       "      <td>32410717340</td>\n",
       "    </tr>\n",
       "    <tr>\n",
       "      <th>6</th>\n",
       "      <td>DIST6</td>\n",
       "      <td>LA WILLIAMS DISTRIB 4101</td>\n",
       "      <td>Danika Gierlach</td>\n",
       "      <td>32410526407</td>\n",
       "    </tr>\n",
       "    <tr>\n",
       "      <th>7</th>\n",
       "      <td>DIST7</td>\n",
       "      <td>CALVE DISTRIB 730</td>\n",
       "      <td>Scarlet Champine</td>\n",
       "      <td>32414549221</td>\n",
       "    </tr>\n",
       "    <tr>\n",
       "      <th>8</th>\n",
       "      <td>DIST8</td>\n",
       "      <td>AMORA DISTRIB 76</td>\n",
       "      <td>Adolfo Fuselier</td>\n",
       "      <td>32416587328</td>\n",
       "    </tr>\n",
       "  </tbody>\n",
       "</table>\n",
       "</div>"
      ],
      "text/plain": [
       "  agent_id                agent_name agent_contact_name  agent_contact_phone\n",
       "5    DIST5  LA WILLIAMS DISTRIB 7331       Coreen Hoxie          32410717340\n",
       "6    DIST6  LA WILLIAMS DISTRIB 4101    Danika Gierlach          32410526407\n",
       "7    DIST7         CALVE DISTRIB 730   Scarlet Champine          32414549221\n",
       "8    DIST8          AMORA DISTRIB 76    Adolfo Fuselier          32416587328"
      ]
     },
     "execution_count": 63,
     "metadata": {},
     "output_type": "execute_result"
    }
   ],
   "source": [
    "dist_l1.head(4)"
   ]
  },
  {
   "cell_type": "code",
   "execution_count": 64,
   "metadata": {
    "collapsed": true
   },
   "outputs": [],
   "source": [
    "dist_l1_ac = circus.create_actor(name=\"dist_l1\", ids=dist_l1.agent_id)\n",
    "dist_l2_ac = circus.create_actor(name=\"dist_l2\", ids=dist_l2.agent_id)"
   ]
  },
  {
   "cell_type": "code",
   "execution_count": 65,
   "metadata": {
    "collapsed": false
   },
   "outputs": [
    {
     "name": "stderr",
     "output_type": "stream",
     "text": [
      "WARNING:root:  Trying to create attribute with a series but indices will be lost.\n",
      "WARNING:root:  Trying to create attribute with a series but indices will be lost.\n",
      "WARNING:root:  Trying to create attribute with a series but indices will be lost.\n",
      "WARNING:root:  Trying to create attribute with a series but indices will be lost.\n",
      "WARNING:root:  Trying to create attribute with a series but indices will be lost.\n",
      "WARNING:root:  Trying to create attribute with a series but indices will be lost.\n"
     ]
    }
   ],
   "source": [
    "dist_l1_ac.create_attribute(name=\"NAME\",          init_values=dist_l1.agent_name );\n",
    "dist_l1_ac.create_attribute(name=\"CONTACT_NAME\",  init_values=dist_l1.agent_contact_name );\n",
    "dist_l1_ac.create_attribute(name=\"CONTACT_PHONE\", init_values=dist_l1.agent_contact_phone );\n",
    "\n",
    "dist_l2_ac.create_attribute(name=\"NAME\",          init_values=dist_l2.agent_name );\n",
    "dist_l2_ac.create_attribute(name=\"CONTACT_NAME\",  init_values=dist_l2.agent_contact_name );\n",
    "dist_l2_ac.create_attribute(name=\"CONTACT_PHONE\", init_values=dist_l2.agent_contact_phone );\n"
   ]
  },
  {
   "cell_type": "code",
   "execution_count": null,
   "metadata": {
    "collapsed": true
   },
   "outputs": [],
   "source": []
  },
  {
   "cell_type": "code",
   "execution_count": 15,
   "metadata": {
    "collapsed": false
   },
   "outputs": [],
   "source": [
    "dealers_pos = pd.read_csv(\"source_data/distributor_pos_product.csv\")\n",
    "\n",
    "distributor_rels = pd.merge(left=dealers_l1, right=dealers_pos, \n",
    "         left_on=\"distributor_id\", right_on=\"distributor_id\",\n",
    "         suffixes=('', '_y')).drop(\"product_type_id_y\", axis=1)"
   ]
  },
  {
   "cell_type": "code",
   "execution_count": 16,
   "metadata": {
    "collapsed": false
   },
   "outputs": [
    {
     "data": {
      "text/html": [
       "<div>\n",
       "<table border=\"1\" class=\"dataframe\">\n",
       "  <thead>\n",
       "    <tr style=\"text-align: right;\">\n",
       "      <th></th>\n",
       "      <th>distributor_id</th>\n",
       "      <th>geo_level1_id</th>\n",
       "      <th>product_type_id</th>\n",
       "      <th>agent_id</th>\n",
       "    </tr>\n",
       "  </thead>\n",
       "  <tbody>\n",
       "    <tr>\n",
       "      <th>0</th>\n",
       "      <td>DIST1</td>\n",
       "      <td>LVL1_Affligem</td>\n",
       "      <td>sim</td>\n",
       "      <td>FIPO6</td>\n",
       "    </tr>\n",
       "    <tr>\n",
       "      <th>1</th>\n",
       "      <td>DIST1</td>\n",
       "      <td>LVL1_Affligem</td>\n",
       "      <td>sim</td>\n",
       "      <td>FIPO20</td>\n",
       "    </tr>\n",
       "    <tr>\n",
       "      <th>2</th>\n",
       "      <td>DIST1</td>\n",
       "      <td>LVL1_Affligem</td>\n",
       "      <td>sim</td>\n",
       "      <td>FIPO21</td>\n",
       "    </tr>\n",
       "    <tr>\n",
       "      <th>3</th>\n",
       "      <td>DIST1</td>\n",
       "      <td>LVL1_Affligem</td>\n",
       "      <td>sim</td>\n",
       "      <td>FIPO22</td>\n",
       "    </tr>\n",
       "    <tr>\n",
       "      <th>4</th>\n",
       "      <td>DIST1</td>\n",
       "      <td>LVL1_Affligem</td>\n",
       "      <td>sim</td>\n",
       "      <td>FIPO25</td>\n",
       "    </tr>\n",
       "  </tbody>\n",
       "</table>\n",
       "</div>"
      ],
      "text/plain": [
       "  distributor_id  geo_level1_id product_type_id agent_id\n",
       "0          DIST1  LVL1_Affligem             sim    FIPO6\n",
       "1          DIST1  LVL1_Affligem             sim   FIPO20\n",
       "2          DIST1  LVL1_Affligem             sim   FIPO21\n",
       "3          DIST1  LVL1_Affligem             sim   FIPO22\n",
       "4          DIST1  LVL1_Affligem             sim   FIPO25"
      ]
     },
     "execution_count": 16,
     "metadata": {},
     "output_type": "execute_result"
    }
   ],
   "source": [
    "distributor_rels.head()"
   ]
  },
  {
   "cell_type": "code",
   "execution_count": 17,
   "metadata": {
    "collapsed": false
   },
   "outputs": [
    {
     "data": {
      "text/html": [
       "<div>\n",
       "<table border=\"1\" class=\"dataframe\">\n",
       "  <thead>\n",
       "    <tr style=\"text-align: right;\">\n",
       "      <th></th>\n",
       "      <th>distributor_id</th>\n",
       "      <th>geo_level1_id</th>\n",
       "    </tr>\n",
       "  </thead>\n",
       "  <tbody>\n",
       "    <tr>\n",
       "      <th>0</th>\n",
       "      <td>DIST1</td>\n",
       "      <td>LVL1_Affligem</td>\n",
       "    </tr>\n",
       "    <tr>\n",
       "      <th>8970</th>\n",
       "      <td>DIST1</td>\n",
       "      <td>LVL1_Asse</td>\n",
       "    </tr>\n",
       "    <tr>\n",
       "      <th>17940</th>\n",
       "      <td>DIST1</td>\n",
       "      <td>LVL1_Beersel</td>\n",
       "    </tr>\n",
       "  </tbody>\n",
       "</table>\n",
       "</div>"
      ],
      "text/plain": [
       "      distributor_id  geo_level1_id\n",
       "0              DIST1  LVL1_Affligem\n",
       "8970           DIST1      LVL1_Asse\n",
       "17940          DIST1   LVL1_Beersel"
      ]
     },
     "execution_count": 17,
     "metadata": {},
     "output_type": "execute_result"
    }
   ],
   "source": [
    "distributor_geo_l1_rel = distributor_rels[[\"distributor_id\", \"geo_level1_id\", \"product_type_id\"]].drop_duplicates()\n",
    "distributor_geo_l1_rel.head(3)"
   ]
  },
  {
   "cell_type": "code",
   "execution_count": null,
   "metadata": {
    "collapsed": true
   },
   "outputs": [],
   "source": [
    "distributor_geo_l1_rel = distributor_rels[[\"distributor_id\", \"geo_level1_id\"]].drop_duplicates()\n",
    "distributor_geo_l1_rel.head(3)"
   ]
  },
  {
   "cell_type": "markdown",
   "metadata": {},
   "source": [
    "# Saving circus"
   ]
  },
  {
   "cell_type": "code",
   "execution_count": 66,
   "metadata": {
    "collapsed": false
   },
   "outputs": [
    {
     "name": "stderr",
     "output_type": "stream",
     "text": [
      "WARNING:root:overwriting existing circus belgium\n"
     ]
    }
   ],
   "source": [
    "circus.save_to_db(overwrite=True)"
   ]
  },
  {
   "cell_type": "code",
   "execution_count": null,
   "metadata": {
    "collapsed": true
   },
   "outputs": [],
   "source": []
  }
 ],
 "metadata": {
  "kernelspec": {
   "display_name": "Python 2",
   "language": "python",
   "name": "python2"
  },
  "language_info": {
   "codemirror_mode": {
    "name": "ipython",
    "version": 2
   },
   "file_extension": ".py",
   "mimetype": "text/x-python",
   "name": "python",
   "nbconvert_exporter": "python",
   "pygments_lexer": "ipython2",
   "version": "2.7.12"
  }
 },
 "nbformat": 4,
 "nbformat_minor": 1
}
