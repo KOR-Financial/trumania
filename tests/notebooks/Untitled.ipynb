{
 "cells": [
  {
   "cell_type": "code",
   "execution_count": 24,
   "metadata": {
    "collapsed": true
   },
   "outputs": [],
   "source": [
    "import pandas as pd\n",
    "import numpy as np \n",
    "from scipy import stats\n",
    "\n",
    "%matplotlib inline"
   ]
  },
  {
   "cell_type": "code",
   "execution_count": 69,
   "metadata": {
    "collapsed": false
   },
   "outputs": [],
   "source": [
    "def bounded_sigmoid(x_min, x_max, shape, incrementing=True):\n",
    "    \"\"\"\n",
    "    Builds a S-shape curve that evolve from 0 to 1 (if incrementing) or 1 to 0 (otherwise)\n",
    "    between x_min and x_max.\n",
    "    \n",
    "    This is preferable to the logitic function for cases where we want to make sure that the curve\n",
    "    actually reaches 0 and 1 at some point (e.g. probability of triggering an \"restock\" action\n",
    "    must be 1 if stock is as low as 1). \n",
    "    \"\"\"\n",
    "    \n",
    "    def f(x):\n",
    "        if x < x_min:\n",
    "            return f(x_min)\n",
    "        \n",
    "        if x > x_max: \n",
    "            return f(x_max)\n",
    "        \n",
    "        if incrementing:\n",
    "            return stats.beta.cdf( (x-x_min)/(x_max-x_min), a=shape, b=shape)\n",
    "        else:\n",
    "            return stats.beta.sf( (x-x_min)/(x_max-x_min), a=shape, b=shape)\n",
    "    \n",
    "    return f"
   ]
  },
  {
   "cell_type": "code",
   "execution_count": 71,
   "metadata": {
    "collapsed": false
   },
   "outputs": [
    {
     "data": {
      "image/png": "[encoded data removed]",
      "text/plain": [
       "<matplotlib.figure.Figure at 0x10c2a4510>"
      ]
     },
     "metadata": {},
     "output_type": "display_data"
    }
   ],
   "source": [
    "#response = bounded_sigmoid(1, 30, 2, incrementing=False)\n",
    "response = bounded_sigmoid(x_min=1, x_max=10, shape=2, incrementing=False)\n",
    "\n",
    "xs = np.linspace(-1, 40, 100)\n",
    "\n",
    "pd.DataFrame({\"x\":xs, \n",
    "              \"y\":[response(x) for x in xs]}).plot(x=\"x\", y=\"y\", kind=\"line\", ylim=[-.1, 1.1]);"
   ]
  },
  {
   "cell_type": "code",
   "execution_count": 72,
   "metadata": {
    "collapsed": false
   },
   "outputs": [
    {
     "data": {
      "text/plain": [
       "0.0"
      ]
     },
     "execution_count": 72,
     "metadata": {},
     "output_type": "execute_result"
    }
   ],
   "source": [
    "response(10)"
   ]
  },
  {
   "cell_type": "code",
   "execution_count": 23,
   "metadata": {
    "collapsed": false
   },
   "outputs": [
    {
     "data": {
      "text/plain": [
       "<matplotlib.axes._subplots.AxesSubplot at 0x10a346fd0>"
      ]
     },
     "execution_count": 23,
     "metadata": {},
     "output_type": "execute_result"
    },
    {
     "data": {
      "image/png": "[encoded data removed]",
      "text/plain": [
       "<matplotlib.figure.Figure at 0x10a35c4d0>"
      ]
     },
     "metadata": {},
     "output_type": "display_data"
    }
   ],
   "source": [
    "k1=5\n",
    "k2=3\n",
    "x_0=30 \n",
    "\n",
    "\n",
    "pd.Series([s(x) for x in range(-10, 40)]).plot()"
   ]
  },
  {
   "cell_type": "code",
   "execution_count": null,
   "metadata": {
    "collapsed": true
   },
   "outputs": [],
   "source": []
  }
 ],
 "metadata": {
  "kernelspec": {
   "display_name": "Python 2",
   "language": "python",
   "name": "python2"
  },
  "language_info": {
   "codemirror_mode": {
    "name": "ipython",
    "version": 2
   },
   "file_extension": ".py",
   "mimetype": "text/x-python",
   "name": "python",
   "nbconvert_exporter": "python",
   "pygments_lexer": "ipython2",
   "version": "2.7.11"
  }
 },
 "nbformat": 4,
 "nbformat_minor": 0
}
